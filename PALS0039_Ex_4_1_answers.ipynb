{
  "nbformat": 4,
  "nbformat_minor": 0,
  "metadata": {
    "colab": {
      "provenance": [],
      "machine_shape": "hm",
      "include_colab_link": true
    },
    "kernelspec": {
      "name": "python3",
      "display_name": "Python 3"
    }
  },
  "cells": [
    {
      "cell_type": "markdown",
      "metadata": {
        "id": "view-in-github",
        "colab_type": "text"
      },
      "source": [
        "<a href=\"https://colab.research.google.com/github/HanSong19/PALS0039-Introduction-to-Deep-Learning-for-Speech-and-Language-Processing-/blob/main/PALS0039_Ex_4_1_answers.ipynb\" target=\"_parent\"><img src=\"https://colab.research.google.com/assets/colab-badge.svg\" alt=\"Open In Colab\"/></a>"
      ]
    },
    {
      "cell_type": "markdown",
      "metadata": {
        "id": "is1p5hg4EqlY"
      },
      "source": [
        "[![PALS0039 Logo](https://www.phon.ucl.ac.uk/courses/pals0039/images/pals0039logo.png)](https://www.phon.ucl.ac.uk/courses/pals0039/)\n",
        "\n",
        "# Exercise 4.1 Sentiment Analysis from text\n",
        "\n",
        "In this exercise we implement a DNN system for [Sentiment Analysis](https://en.wikipedia.org/wiki/Sentiment_analysis) of movie reviews.\n",
        "\n",
        "We use a set of film reviews taken from the [Internet Movie Database](https://www.imdb.com/) which have been labelled as positive or negative. Words in the reviews have already been tokenised and encoded as numbers using a dictionary. We load the numeric sequences as variable length lists then build a bag of words model for each review. This gives a fixed length vector for each review which we can input into a DNN classifier."
      ]
    },
    {
      "cell_type": "markdown",
      "metadata": {
        "id": "1GSGA1ZvEwTp"
      },
      "source": [
        "---\n",
        "(a) Run the following code block which loads the pre-prepared dataset from the Keras package. Examine the Keras documentation for the [`load_data` method](https://keras.io/api/datasets/imdb/) and add a comment to explain the arguments used (including the defaults for `skip_top`, `start_char`, `oov_char`)."
      ]
    },
    {
      "cell_type": "code",
      "metadata": {
        "id": "TuC220KlEni4",
        "colab": {
          "base_uri": "https://localhost:8080/"
        },
        "outputId": "9523f892-521e-40ec-f3a1-15ced1905e61"
      },
      "source": [
        "import numpy as np\n",
        "import matplotlib.pyplot as plt\n",
        "%matplotlib inline\n",
        "\n",
        "from tensorflow.keras.models import Sequential, Model\n",
        "from tensorflow.keras.layers import Dense\n",
        "from tensorflow.keras.optimizers import SGD\n",
        "from tensorflow.keras.utils import to_categorical\n",
        "from tensorflow.keras.datasets import imdb\n",
        "\n",
        "#(a)\n",
        "# num_words=10000 -- the vocabulary size for the input data (top most frequent terms)\n",
        "# skip_top=0 -- so we don't skip any of the most frequent terms\n",
        "# start_char=1 -- all sentences will start with this special symbol\n",
        "# oov_char=2 -- since we limited the size of the vocabulary, any terms excluded will be represented with 2. this is likely to be default 2\n",
        "#https://keras.io/api/datasets/imdb/\n",
        "(Xtrain_seq, ytrain), (Xtest_seq, ytest) = imdb.load_data(num_words=10000, index_from=3)\n",
        "# the most frequent one will be coded as 3\n",
        "\n",
        "# Print out a sample (first few inputs and associated outputs) of the data\n",
        "print(\"SAMPLE OF THE DATA:\")\n",
        "print(\"-------------------\")\n",
        "print(\"INPUTS:\")\n",
        "print(Xtrain_seq[:3])\n",
        "print(\"OUTPUTS:\")\n",
        "print(ytrain[:3])\n",
        "\n"
      ],
      "execution_count": 2,
      "outputs": [
        {
          "output_type": "stream",
          "name": "stdout",
          "text": [
            "SAMPLE OF THE DATA:\n",
            "-------------------\n",
            "INPUTS:\n",
            "[list([1, 14, 22, 16, 43, 530, 973, 1622, 1385, 65, 458, 4468, 66, 3941, 4, 173, 36, 256, 5, 25, 100, 43, 838, 112, 50, 670, 2, 9, 35, 480, 284, 5, 150, 4, 172, 112, 167, 2, 336, 385, 39, 4, 172, 4536, 1111, 17, 546, 38, 13, 447, 4, 192, 50, 16, 6, 147, 2025, 19, 14, 22, 4, 1920, 4613, 469, 4, 22, 71, 87, 12, 16, 43, 530, 38, 76, 15, 13, 1247, 4, 22, 17, 515, 17, 12, 16, 626, 18, 2, 5, 62, 386, 12, 8, 316, 8, 106, 5, 4, 2223, 5244, 16, 480, 66, 3785, 33, 4, 130, 12, 16, 38, 619, 5, 25, 124, 51, 36, 135, 48, 25, 1415, 33, 6, 22, 12, 215, 28, 77, 52, 5, 14, 407, 16, 82, 2, 8, 4, 107, 117, 5952, 15, 256, 4, 2, 7, 3766, 5, 723, 36, 71, 43, 530, 476, 26, 400, 317, 46, 7, 4, 2, 1029, 13, 104, 88, 4, 381, 15, 297, 98, 32, 2071, 56, 26, 141, 6, 194, 7486, 18, 4, 226, 22, 21, 134, 476, 26, 480, 5, 144, 30, 5535, 18, 51, 36, 28, 224, 92, 25, 104, 4, 226, 65, 16, 38, 1334, 88, 12, 16, 283, 5, 16, 4472, 113, 103, 32, 15, 16, 5345, 19, 178, 32])\n",
            " list([1, 194, 1153, 194, 8255, 78, 228, 5, 6, 1463, 4369, 5012, 134, 26, 4, 715, 8, 118, 1634, 14, 394, 20, 13, 119, 954, 189, 102, 5, 207, 110, 3103, 21, 14, 69, 188, 8, 30, 23, 7, 4, 249, 126, 93, 4, 114, 9, 2300, 1523, 5, 647, 4, 116, 9, 35, 8163, 4, 229, 9, 340, 1322, 4, 118, 9, 4, 130, 4901, 19, 4, 1002, 5, 89, 29, 952, 46, 37, 4, 455, 9, 45, 43, 38, 1543, 1905, 398, 4, 1649, 26, 6853, 5, 163, 11, 3215, 2, 4, 1153, 9, 194, 775, 7, 8255, 2, 349, 2637, 148, 605, 2, 8003, 15, 123, 125, 68, 2, 6853, 15, 349, 165, 4362, 98, 5, 4, 228, 9, 43, 2, 1157, 15, 299, 120, 5, 120, 174, 11, 220, 175, 136, 50, 9, 4373, 228, 8255, 5, 2, 656, 245, 2350, 5, 4, 9837, 131, 152, 491, 18, 2, 32, 7464, 1212, 14, 9, 6, 371, 78, 22, 625, 64, 1382, 9, 8, 168, 145, 23, 4, 1690, 15, 16, 4, 1355, 5, 28, 6, 52, 154, 462, 33, 89, 78, 285, 16, 145, 95])\n",
            " list([1, 14, 47, 8, 30, 31, 7, 4, 249, 108, 7, 4, 5974, 54, 61, 369, 13, 71, 149, 14, 22, 112, 4, 2401, 311, 12, 16, 3711, 33, 75, 43, 1829, 296, 4, 86, 320, 35, 534, 19, 263, 4821, 1301, 4, 1873, 33, 89, 78, 12, 66, 16, 4, 360, 7, 4, 58, 316, 334, 11, 4, 1716, 43, 645, 662, 8, 257, 85, 1200, 42, 1228, 2578, 83, 68, 3912, 15, 36, 165, 1539, 278, 36, 69, 2, 780, 8, 106, 14, 6905, 1338, 18, 6, 22, 12, 215, 28, 610, 40, 6, 87, 326, 23, 2300, 21, 23, 22, 12, 272, 40, 57, 31, 11, 4, 22, 47, 6, 2307, 51, 9, 170, 23, 595, 116, 595, 1352, 13, 191, 79, 638, 89, 2, 14, 9, 8, 106, 607, 624, 35, 534, 6, 227, 7, 129, 113])]\n",
            "OUTPUTS:\n",
            "[1 0 0]\n"
          ]
        }
      ]
    },
    {
      "cell_type": "markdown",
      "source": [
        "---\n",
        "(b) Examine the sample inputs and outputs above. What do the rows of the inputs represent, what do the numbers in the input represent? What do the numbers in the output represent. Why do all the inputs start with the number 1?\n"
      ],
      "metadata": {
        "id": "vRED2TODXJXr"
      }
    },
    {
      "cell_type": "code",
      "source": [
        "#(b)\n",
        "# - Sequences of the top 10000 terms in the corpus, each row is a document (i.e. a single movie review)\n",
        "# - Output values are 0 for negative and 1 for positive\n",
        "# - Each document starts with the special symbol \"1\" (according to the documentation for `imdb.load_data`)"
      ],
      "metadata": {
        "id": "3RRWw2wjaQ2Z"
      },
      "execution_count": null,
      "outputs": []
    },
    {
      "cell_type": "markdown",
      "source": [
        "(c) How many out-of-vocabulary (OOV) terms occur in each of the first three documents examined above? Write a short piece of code to determine the lengths and number of OOVs in each:"
      ],
      "metadata": {
        "id": "wW0CHXNma_PB"
      }
    },
    {
      "cell_type": "code",
      "source": [
        "#(c)\n",
        "for document in Xtrain_seq[:3]:\n",
        "  print(\"Length:\", len(document), \"OOVs:\", document.count(2), sep=\"\\t\")\n"
      ],
      "metadata": {
        "colab": {
          "base_uri": "https://localhost:8080/"
        },
        "id": "nsbxmxcNbkOT",
        "outputId": "75447fc0-fcd6-4b1c-e9be-5ff3634c4d53"
      },
      "execution_count": 13,
      "outputs": [
        {
          "output_type": "stream",
          "name": "stdout",
          "text": [
            "Length:\t218\tOOVs:\t6\n",
            "Length:\t189\tOOVs:\t7\n",
            "Length:\t141\tOOVs:\t2\n"
          ]
        }
      ]
    },
    {
      "cell_type": "markdown",
      "source": [
        "(d) Determine the highest term index occuring in our dataset?"
      ],
      "metadata": {
        "id": "aNE0Kc1WzPED"
      }
    },
    {
      "cell_type": "code",
      "source": [
        "#(d)\n",
        "highest_index_per_document = []\n",
        "for document in Xtrain_seq:\n",
        "  highest_index_per_document.append(max(document))\n",
        "highest_term_index = max(highest_index_per_document)\n",
        "print(\"Highest index in the dataset:\", highest_term_index)"
      ],
      "metadata": {
        "colab": {
          "base_uri": "https://localhost:8080/"
        },
        "id": "15UWihMDzZdE",
        "outputId": "1e97883f-d15e-4ab5-ac5d-f82351e64050"
      },
      "execution_count": 14,
      "outputs": [
        {
          "output_type": "stream",
          "name": "stdout",
          "text": [
            "Highest index in the dataset: 9999\n"
          ]
        }
      ]
    },
    {
      "cell_type": "markdown",
      "source": [
        "---\n",
        "The following code retrieves the mapping terms -> indices (starting from 1) from the corpus and uses this to create an inverse mapping (indices -> terms) taking care to include the special symbols we have introduced with `load_data`."
      ],
      "metadata": {
        "id": "5UhpGhnDiqpM"
      }
    },
    {
      "cell_type": "code",
      "source": [
        "term_to_index = imdb.get_word_index()\n",
        "\n",
        "index_to_term = {0: \"PAD\", 1: \"START\", 2: \"OOV\"}\n",
        "for term, index in term_to_index.items():\n",
        "  index_to_term[index + 2] = term\n",
        "\n",
        "# Print out the mappings to the special symbols and the top 10 most frequent words therafter\n",
        "for i in range(13):\n",
        "  print(i, index_to_term[i], sep=\"\\t\")\n"
      ],
      "metadata": {
        "colab": {
          "base_uri": "https://localhost:8080/"
        },
        "id": "LxTIELRff2P-",
        "outputId": "683ad815-7284-4382-fa56-f886f1923498"
      },
      "execution_count": 15,
      "outputs": [
        {
          "output_type": "stream",
          "name": "stdout",
          "text": [
            "Downloading data from https://storage.googleapis.com/tensorflow/tf-keras-datasets/imdb_word_index.json\n",
            "1641221/1641221 [==============================] - 0s 0us/step\n",
            "0\tPAD\n",
            "1\tSTART\n",
            "2\tOOV\n",
            "3\tthe\n",
            "4\tand\n",
            "5\ta\n",
            "6\tof\n",
            "7\tto\n",
            "8\tis\n",
            "9\tbr\n",
            "10\tin\n",
            "11\tit\n",
            "12\ti\n"
          ]
        }
      ]
    },
    {
      "cell_type": "markdown",
      "source": [
        "---\n",
        "(e) Use the index -> term mapping created above to convert the first document to a human-readable version"
      ],
      "metadata": {
        "id": "XAjLSnxdjfSa"
      }
    },
    {
      "cell_type": "code",
      "source": [
        "#(e)\n",
        "first_document = Xtrain_seq[0]\n",
        "for term_index in first_document:\n",
        "  term = index_to_term[term_index]\n",
        "  print(term, end=\" \")"
      ],
      "metadata": {
        "colab": {
          "base_uri": "https://localhost:8080/"
        },
        "id": "rDWc60RPj1t6",
        "outputId": "0b0833f1-3f5a-4d45-a0f6-8e0dd6b865d3"
      },
      "execution_count": 16,
      "outputs": [
        {
          "output_type": "stream",
          "name": "stdout",
          "text": [
            "START that on as about parts admit ready speaking really care boot see holy and again who each a are any about brought life what power OOV br they sound everything a though and part life look OOV fan recommend like and part elegant successful for feeling from this based and take what as of those core movie that on and manage airplane 4 and on me because i as about parts from been was this military and on for kill for i as cinematography with OOV a which let i is left is two a and seat raises as sound see worried by and still i as from running a are off good who scene some are church by of on i come he bad more a that gives as into OOV is and films best commenting was each and OOV to rid a beyond who me about parts final his keep special has to and OOV manages this characters how and perhaps was american too at references no his something of enough russ with and bit on film say final his sound a back one jews with good who he there's made are characters and bit really as from harry how i as actor a as transfer plot think at was as inexplicably movie quite at "
          ]
        }
      ]
    },
    {
      "cell_type": "markdown",
      "metadata": {
        "id": "mkf1xM0oNQ05"
      },
      "source": [
        "---\n",
        "We now vectorise the review documents. Run the code."
      ]
    },
    {
      "cell_type": "code",
      "metadata": {
        "id": "xvkaEXUKNhFp",
        "colab": {
          "base_uri": "https://localhost:8080/"
        },
        "outputId": "9202613c-ef55-4f37-c2f5-bf68f97c723b"
      },
      "source": [
        "# Function to convert a list of documents into counts of term indices.\n",
        "# Each row represents a single document and each column represents the counts of each term in the document.\n",
        "def bags_of_words(documents, numterms=10000):\n",
        "  # We create an empty array of the right size before we begin:\n",
        "  document_term_counts = np.zeros((len(documents), numterms))  \n",
        "  # Now we loop over all documents and terms and count them:\n",
        "  for document_index, document in enumerate(documents):\n",
        "    for term_index in document:\n",
        "      document_term_counts[document_index, term_index] += 1\n",
        "  return document_term_counts\n",
        "\n",
        "# Convert training and test data to fixed-length vectors\n",
        "Xtrain = bags_of_words(Xtrain_seq)\n",
        "Xtest = bags_of_words(Xtest_seq)\n",
        "\n",
        "# Convert labels to numpy array\n",
        "ytrain = np.array(ytrain)\n",
        "ytest = np.array(ytest)\n",
        "\n",
        "# Print out some of the data to see what it looks like\n",
        "print(Xtrain.shape, ytrain.shape, Xtest.shape, ytest.shape)\n",
        "print(Xtrain[:10])"
      ],
      "execution_count": 17,
      "outputs": [
        {
          "output_type": "stream",
          "name": "stdout",
          "text": [
            "(25000, 10000) (25000,) (25000, 10000) (25000,)\n",
            "[[ 0.  1.  6. ...  0.  0.  0.]\n",
            " [ 0.  1.  7. ...  0.  0.  0.]\n",
            " [ 0.  1.  2. ...  0.  0.  0.]\n",
            " ...\n",
            " [ 0.  1. 37. ...  0.  0.  0.]\n",
            " [ 0.  1.  5. ...  0.  0.  0.]\n",
            " [ 0.  1.  2. ...  0.  0.  0.]]\n"
          ]
        }
      ]
    },
    {
      "cell_type": "markdown",
      "metadata": {
        "id": "ABgvXFckOnjB"
      },
      "source": [
        "---\n",
        "Build the DNN model. Run the code and add comments."
      ]
    },
    {
      "cell_type": "code",
      "metadata": {
        "id": "rvoA4IvbOpen",
        "colab": {
          "base_uri": "https://localhost:8080/"
        },
        "outputId": "4aab3ece-08fd-4547-833d-be6f27dda1f0"
      },
      "source": [
        "def build_model(input_width=10000, hidden_width=16, output_width=1, add_hidden_layers=1, hidden_layer_activation=\"sigmoid\"):\n",
        "  model = Sequential()\n",
        "  #Sequential is one of the most common neural network\n",
        "  model.add(Dense(hidden_width, activation=hidden_layer_activation, input_shape=(input_width,)))\n",
        "  for i in range(add_hidden_layers):\n",
        "    #Dense means all inputs are connected\n",
        "    model.add(Dense(hidden_width, activation=hidden_layer_activation))\n",
        "  model.add(Dense(output_width, activation='sigmoid'))\n",
        "  model.compile(loss='binary_crossentropy', optimizer=\"rmsprop\", metrics=['accuracy'])\n",
        "  #binary_crossentropy is used when there are 2 input and output is one.\n",
        "  return model\n",
        "\n",
        "model = build_model()\n",
        "#build_model(add_hidden_layers = 20) can be done\n",
        "model.summary()"
      ],
      "execution_count": 19,
      "outputs": [
        {
          "output_type": "stream",
          "name": "stdout",
          "text": [
            "Model: \"sequential_3\"\n",
            "_________________________________________________________________\n",
            " Layer (type)                Output Shape              Param #   \n",
            "=================================================================\n",
            " dense_28 (Dense)            (None, 16)                160016    \n",
            "                                                                 \n",
            " dense_29 (Dense)            (None, 16)                272       \n",
            "                                                                 \n",
            " dense_30 (Dense)            (None, 1)                 17        \n",
            "                                                                 \n",
            "=================================================================\n",
            "Total params: 160,305\n",
            "Trainable params: 160,305\n",
            "Non-trainable params: 0\n",
            "_________________________________________________________________\n"
          ]
        }
      ]
    },
    {
      "cell_type": "markdown",
      "metadata": {
        "id": "Q3qy9MgOPUhw"
      },
      "source": [
        "---\n",
        "(f) Call the `model.fit` method with the correct arguments to train the model with the following specifications: (1) Train for 30 iterations over the dataset; (2) Update the weights during training in batches of 64 samples; (3) Request Keras to randomly select 10% of the training set as the **validation set**."
      ]
    },
    {
      "cell_type": "code",
      "metadata": {
        "id": "GZoDCCTsPaz4",
        "colab": {
          "base_uri": "https://localhost:8080/"
        },
        "outputId": "f7bfbd9a-bc00-482b-e5fd-8a821ffb51ca"
      },
      "source": [
        "#(f) trining the model \n",
        "training_info = model.fit(Xtrain, ytrain, epochs=30, batch_size=64, validation_split=0.10)\n",
        "#validation_split can be automatically done in Keras. 0.10 means that 90% of them were used for training and 10% is used for validatiaon\n",
        "# the results shows that at some point, val_accuracy became 8.89 but after that, it gets lower, suggesting that it probabiliy should have stopped.\n",
        "# I can plot the result and see where to stop"
      ],
      "execution_count": 20,
      "outputs": [
        {
          "output_type": "stream",
          "name": "stdout",
          "text": [
            "Epoch 1/30\n",
            "352/352 [==============================] - 2s 4ms/step - loss: 0.4571 - accuracy: 0.8311 - val_loss: 0.3160 - val_accuracy: 0.8828\n",
            "Epoch 2/30\n",
            "352/352 [==============================] - 2s 4ms/step - loss: 0.2446 - accuracy: 0.9078 - val_loss: 0.2816 - val_accuracy: 0.8916\n",
            "Epoch 3/30\n",
            "352/352 [==============================] - 2s 4ms/step - loss: 0.1957 - accuracy: 0.9279 - val_loss: 0.2688 - val_accuracy: 0.8952\n",
            "Epoch 4/30\n",
            "352/352 [==============================] - 1s 4ms/step - loss: 0.1688 - accuracy: 0.9398 - val_loss: 0.2753 - val_accuracy: 0.8996\n",
            "Epoch 5/30\n",
            "352/352 [==============================] - 1s 4ms/step - loss: 0.1492 - accuracy: 0.9460 - val_loss: 0.2843 - val_accuracy: 0.8940\n",
            "Epoch 6/30\n",
            "352/352 [==============================] - 1s 4ms/step - loss: 0.1368 - accuracy: 0.9516 - val_loss: 0.3009 - val_accuracy: 0.8952\n",
            "Epoch 7/30\n",
            "352/352 [==============================] - 1s 4ms/step - loss: 0.1261 - accuracy: 0.9563 - val_loss: 0.3172 - val_accuracy: 0.8896\n",
            "Epoch 8/30\n",
            "352/352 [==============================] - 2s 4ms/step - loss: 0.1164 - accuracy: 0.9593 - val_loss: 0.3269 - val_accuracy: 0.8928\n",
            "Epoch 9/30\n",
            "352/352 [==============================] - 1s 4ms/step - loss: 0.1089 - accuracy: 0.9631 - val_loss: 0.3360 - val_accuracy: 0.8896\n",
            "Epoch 10/30\n",
            "352/352 [==============================] - 1s 4ms/step - loss: 0.1021 - accuracy: 0.9665 - val_loss: 0.3494 - val_accuracy: 0.8860\n",
            "Epoch 11/30\n",
            "352/352 [==============================] - 2s 5ms/step - loss: 0.0964 - accuracy: 0.9680 - val_loss: 0.3648 - val_accuracy: 0.8868\n",
            "Epoch 12/30\n",
            "352/352 [==============================] - 2s 4ms/step - loss: 0.0911 - accuracy: 0.9707 - val_loss: 0.3782 - val_accuracy: 0.8888\n",
            "Epoch 13/30\n",
            "352/352 [==============================] - 1s 4ms/step - loss: 0.0868 - accuracy: 0.9716 - val_loss: 0.3918 - val_accuracy: 0.8804\n",
            "Epoch 14/30\n",
            "352/352 [==============================] - 1s 4ms/step - loss: 0.0826 - accuracy: 0.9741 - val_loss: 0.3941 - val_accuracy: 0.8848\n",
            "Epoch 15/30\n",
            "352/352 [==============================] - 1s 4ms/step - loss: 0.0787 - accuracy: 0.9760 - val_loss: 0.4071 - val_accuracy: 0.8852\n",
            "Epoch 16/30\n",
            "352/352 [==============================] - 1s 4ms/step - loss: 0.0748 - accuracy: 0.9766 - val_loss: 0.4164 - val_accuracy: 0.8812\n",
            "Epoch 17/30\n",
            "352/352 [==============================] - 1s 4ms/step - loss: 0.0702 - accuracy: 0.9779 - val_loss: 0.4308 - val_accuracy: 0.8788\n",
            "Epoch 18/30\n",
            "352/352 [==============================] - 1s 4ms/step - loss: 0.0676 - accuracy: 0.9782 - val_loss: 0.4474 - val_accuracy: 0.8808\n",
            "Epoch 19/30\n",
            "352/352 [==============================] - 2s 5ms/step - loss: 0.0655 - accuracy: 0.9804 - val_loss: 0.4502 - val_accuracy: 0.8764\n",
            "Epoch 20/30\n",
            "352/352 [==============================] - 1s 4ms/step - loss: 0.0621 - accuracy: 0.9809 - val_loss: 0.4595 - val_accuracy: 0.8760\n",
            "Epoch 21/30\n",
            "352/352 [==============================] - 1s 4ms/step - loss: 0.0588 - accuracy: 0.9828 - val_loss: 0.4725 - val_accuracy: 0.8784\n",
            "Epoch 22/30\n",
            "352/352 [==============================] - 1s 4ms/step - loss: 0.0563 - accuracy: 0.9839 - val_loss: 0.4895 - val_accuracy: 0.8736\n",
            "Epoch 23/30\n",
            "352/352 [==============================] - 1s 4ms/step - loss: 0.0531 - accuracy: 0.9848 - val_loss: 0.4933 - val_accuracy: 0.8744\n",
            "Epoch 24/30\n",
            "352/352 [==============================] - 1s 4ms/step - loss: 0.0511 - accuracy: 0.9849 - val_loss: 0.5010 - val_accuracy: 0.8764\n",
            "Epoch 25/30\n",
            "352/352 [==============================] - 1s 4ms/step - loss: 0.0486 - accuracy: 0.9864 - val_loss: 0.5120 - val_accuracy: 0.8740\n",
            "Epoch 26/30\n",
            "352/352 [==============================] - 1s 4ms/step - loss: 0.0461 - accuracy: 0.9868 - val_loss: 0.5292 - val_accuracy: 0.8716\n",
            "Epoch 27/30\n",
            "352/352 [==============================] - 1s 4ms/step - loss: 0.0440 - accuracy: 0.9876 - val_loss: 0.5328 - val_accuracy: 0.8704\n",
            "Epoch 28/30\n",
            "352/352 [==============================] - 2s 4ms/step - loss: 0.0417 - accuracy: 0.9884 - val_loss: 0.5351 - val_accuracy: 0.8724\n",
            "Epoch 29/30\n",
            "352/352 [==============================] - 1s 4ms/step - loss: 0.0398 - accuracy: 0.9892 - val_loss: 0.5485 - val_accuracy: 0.8684\n",
            "Epoch 30/30\n",
            "352/352 [==============================] - 1s 4ms/step - loss: 0.0377 - accuracy: 0.9898 - val_loss: 0.5650 - val_accuracy: 0.8676\n"
          ]
        }
      ]
    },
    {
      "cell_type": "markdown",
      "metadata": {
        "id": "ieqTwwWuQ6UX"
      },
      "source": [
        "---\n",
        "Plot and examine the training graphs, compare the training and evaluation errors. Run the code."
      ]
    },
    {
      "cell_type": "code",
      "metadata": {
        "id": "LlWg9PXNQ8_F",
        "colab": {
          "base_uri": "https://localhost:8080/",
          "height": 334
        },
        "outputId": "dc9c72c6-a7de-4139-d153-1cc2230091ec"
      },
      "source": [
        "def plot_training_history(training_info):\n",
        "  # Plot the training process:\n",
        "  fig, axs = plt.subplots(1, 2, figsize=(16, 5))\n",
        "  axs[0].plot(training_info.history['loss'], label=\"training set\")\n",
        "  axs[0].plot(training_info.history['val_loss'], label=\"validation set\")\n",
        "  axs[0].set_xlabel(\"Epoch\")\n",
        "  axs[0].set_ylabel(\"Loss\")\n",
        "  axs[0].grid(True)\n",
        "  axs[0].legend()\n",
        "  try:\n",
        "    axs[1].plot(training_info.history['accuracy'], label=\"training set\")\n",
        "    axs[1].plot(training_info.history['val_accuracy'], label=\"validation set\")\n",
        "    axs[1].set_xlabel(\"Epoch\")\n",
        "    axs[1].set_ylabel(\"Accuracy\")\n",
        "    axs[1].grid(True)\n",
        "    axs[1].legend()\n",
        "  except:\n",
        "    pass\n",
        "  plt.show()\n",
        "\n",
        "plot_training_history(training_info)\n",
        "#you should stop when the validation set starts to go down"
      ],
      "execution_count": 21,
      "outputs": [
        {
          "output_type": "display_data",
          "data": {
            "text/plain": [
              "<Figure size 1152x360 with 2 Axes>"
            ],
            "image/png": "[encoded data removed]"
          },
          "metadata": {
            "needs_background": "light"
          }
        }
      ]
    },
    {
      "cell_type": "markdown",
      "source": [
        "(g) Does the process exhibit overfitting or underfitting? Is the performance of the classifier good? Is 30 epochs a reasonable choice? Should the number of epochs be increased or decreased?"
      ],
      "metadata": {
        "id": "FC3BOOyYwnYr"
      }
    },
    {
      "cell_type": "code",
      "source": [
        "#(g)\n",
        "# - Overfitting\n",
        "# - It is better than random guessing (the validation set should contain approximately 50% of samples with each output)\n",
        "# - The performance doesn't improve much and the model seems to be overfitting -- it can be decreased (early stopping at around 10 epochs)."
      ],
      "metadata": {
        "id": "SfJ3H_LKxKKc"
      },
      "execution_count": 22,
      "outputs": []
    },
    {
      "cell_type": "markdown",
      "source": [
        "The follow applies TF-IDF transform to the term counts and repeats the model training experiment"
      ],
      "metadata": {
        "id": "NdiKdTrGHfkn"
      }
    },
    {
      "cell_type": "code",
      "source": [
        "from sklearn.feature_extraction.text import TfidfTransformer\n",
        "tfidf_transformer = TfidfTransformer().fit(Xtrain)\n",
        "Xtrain_tfidf = tfidf_transformer.transform(Xtrain).toarray()\n",
        "\n",
        "model_tfidf = build_model()\n",
        "training_info = model_tfidf.fit(Xtrain_tfidf, ytrain, epochs=30, batch_size=64, validation_split=0.10)\n",
        "plot_training_history(training_info)"
      ],
      "metadata": {
        "colab": {
          "base_uri": "https://localhost:8080/",
          "height": 1000
        },
        "id": "t1oDKoDiywJQ",
        "outputId": "1d2debf1-e69a-4bf9-96c3-43df6c4ed3f9"
      },
      "execution_count": 23,
      "outputs": [
        {
          "output_type": "stream",
          "name": "stdout",
          "text": [
            "Epoch 1/30\n",
            "352/352 [==============================] - 2s 4ms/step - loss: 0.6851 - accuracy: 0.6589 - val_loss: 0.6574 - val_accuracy: 0.7772\n",
            "Epoch 2/30\n",
            "352/352 [==============================] - 1s 4ms/step - loss: 0.5947 - accuracy: 0.8325 - val_loss: 0.5152 - val_accuracy: 0.8588\n",
            "Epoch 3/30\n",
            "352/352 [==============================] - 1s 4ms/step - loss: 0.4209 - accuracy: 0.8702 - val_loss: 0.3596 - val_accuracy: 0.8808\n",
            "Epoch 4/30\n",
            "352/352 [==============================] - 1s 4ms/step - loss: 0.2961 - accuracy: 0.8940 - val_loss: 0.2910 - val_accuracy: 0.8900\n",
            "Epoch 5/30\n",
            "352/352 [==============================] - 2s 4ms/step - loss: 0.2403 - accuracy: 0.9095 - val_loss: 0.2669 - val_accuracy: 0.8928\n",
            "Epoch 6/30\n",
            "352/352 [==============================] - 1s 4ms/step - loss: 0.2130 - accuracy: 0.9181 - val_loss: 0.2578 - val_accuracy: 0.8948\n",
            "Epoch 7/30\n",
            "352/352 [==============================] - 1s 4ms/step - loss: 0.1957 - accuracy: 0.9256 - val_loss: 0.2538 - val_accuracy: 0.8976\n",
            "Epoch 8/30\n",
            "352/352 [==============================] - 1s 4ms/step - loss: 0.1826 - accuracy: 0.9309 - val_loss: 0.2524 - val_accuracy: 0.8992\n",
            "Epoch 9/30\n",
            "352/352 [==============================] - 1s 4ms/step - loss: 0.1717 - accuracy: 0.9360 - val_loss: 0.2548 - val_accuracy: 0.8980\n",
            "Epoch 10/30\n",
            "352/352 [==============================] - 1s 4ms/step - loss: 0.1631 - accuracy: 0.9393 - val_loss: 0.2551 - val_accuracy: 0.8984\n",
            "Epoch 11/30\n",
            "352/352 [==============================] - 1s 4ms/step - loss: 0.1553 - accuracy: 0.9433 - val_loss: 0.2578 - val_accuracy: 0.8988\n",
            "Epoch 12/30\n",
            "352/352 [==============================] - 1s 4ms/step - loss: 0.1487 - accuracy: 0.9456 - val_loss: 0.2609 - val_accuracy: 0.8980\n",
            "Epoch 13/30\n",
            "352/352 [==============================] - 2s 5ms/step - loss: 0.1427 - accuracy: 0.9481 - val_loss: 0.2645 - val_accuracy: 0.8988\n",
            "Epoch 14/30\n",
            "352/352 [==============================] - 2s 4ms/step - loss: 0.1377 - accuracy: 0.9504 - val_loss: 0.2699 - val_accuracy: 0.8980\n",
            "Epoch 15/30\n",
            "352/352 [==============================] - 1s 4ms/step - loss: 0.1332 - accuracy: 0.9528 - val_loss: 0.2743 - val_accuracy: 0.8972\n",
            "Epoch 16/30\n",
            "352/352 [==============================] - 1s 4ms/step - loss: 0.1287 - accuracy: 0.9548 - val_loss: 0.2781 - val_accuracy: 0.8952\n",
            "Epoch 17/30\n",
            "352/352 [==============================] - 1s 4ms/step - loss: 0.1253 - accuracy: 0.9568 - val_loss: 0.2839 - val_accuracy: 0.8964\n",
            "Epoch 18/30\n",
            "352/352 [==============================] - 1s 4ms/step - loss: 0.1217 - accuracy: 0.9576 - val_loss: 0.2877 - val_accuracy: 0.8948\n",
            "Epoch 19/30\n",
            "352/352 [==============================] - 1s 4ms/step - loss: 0.1184 - accuracy: 0.9596 - val_loss: 0.2923 - val_accuracy: 0.8948\n",
            "Epoch 20/30\n",
            "352/352 [==============================] - 1s 4ms/step - loss: 0.1158 - accuracy: 0.9600 - val_loss: 0.3003 - val_accuracy: 0.8940\n",
            "Epoch 21/30\n",
            "352/352 [==============================] - 2s 4ms/step - loss: 0.1132 - accuracy: 0.9623 - val_loss: 0.3027 - val_accuracy: 0.8952\n",
            "Epoch 22/30\n",
            "352/352 [==============================] - 1s 4ms/step - loss: 0.1107 - accuracy: 0.9629 - val_loss: 0.3065 - val_accuracy: 0.8932\n",
            "Epoch 23/30\n",
            "352/352 [==============================] - 1s 4ms/step - loss: 0.1083 - accuracy: 0.9640 - val_loss: 0.3184 - val_accuracy: 0.8916\n",
            "Epoch 24/30\n",
            "352/352 [==============================] - 1s 4ms/step - loss: 0.1062 - accuracy: 0.9652 - val_loss: 0.3158 - val_accuracy: 0.8908\n",
            "Epoch 25/30\n",
            "352/352 [==============================] - 1s 4ms/step - loss: 0.1042 - accuracy: 0.9657 - val_loss: 0.3216 - val_accuracy: 0.8900\n",
            "Epoch 26/30\n",
            "352/352 [==============================] - 1s 4ms/step - loss: 0.1026 - accuracy: 0.9664 - val_loss: 0.3286 - val_accuracy: 0.8900\n",
            "Epoch 27/30\n",
            "352/352 [==============================] - 1s 4ms/step - loss: 0.1008 - accuracy: 0.9679 - val_loss: 0.3300 - val_accuracy: 0.8876\n",
            "Epoch 28/30\n",
            "352/352 [==============================] - 1s 4ms/step - loss: 0.0992 - accuracy: 0.9683 - val_loss: 0.3342 - val_accuracy: 0.8904\n",
            "Epoch 29/30\n",
            "352/352 [==============================] - 1s 4ms/step - loss: 0.0977 - accuracy: 0.9685 - val_loss: 0.3385 - val_accuracy: 0.8900\n",
            "Epoch 30/30\n",
            "352/352 [==============================] - 2s 4ms/step - loss: 0.0961 - accuracy: 0.9693 - val_loss: 0.3459 - val_accuracy: 0.8848\n"
          ]
        },
        {
          "output_type": "display_data",
          "data": {
            "text/plain": [
              "<Figure size 1152x360 with 2 Axes>"
            ],
            "image/png": "[encoded data removed]"
          },
          "metadata": {
            "needs_background": "light"
          }
        }
      ]
    },
    {
      "cell_type": "markdown",
      "source": [
        "---\n",
        "(h) Does the TF-IDF transform improve the model performance with current choice of parameters? Can you think of possible reasons?"
      ],
      "metadata": {
        "id": "Jp5BST7iINS6"
      }
    },
    {
      "cell_type": "code",
      "source": [
        "#(h)\n",
        "# Not really, TF-IDF was initially motivated as a way of normalising samples for Information Retrieval tasks;\n",
        "# In contrast, it is possible that the task of Sentiment Classification should be more sensitive to certain keywords than others and that TF-IDF may have little benefit here."
      ],
      "metadata": {
        "id": "rFnwGG1uIceH"
      },
      "execution_count": null,
      "outputs": []
    },
    {
      "cell_type": "markdown",
      "metadata": {
        "id": "sMmYJkNaTSHN"
      },
      "source": [
        "---\n",
        "(i) Estimate the generalisation performance of the two models on the test set (use the [`model.evaluate` method](https://keras.io/api/models/model_training_apis/#evaluate-method)). How does the test accuracy compare to those on the validation set? Why?"
      ]
    },
    {
      "cell_type": "code",
      "metadata": {
        "id": "Oiddz_GTTVKD",
        "colab": {
          "base_uri": "https://localhost:8080/"
        },
        "outputId": "53d17670-ecba-4acb-e3e7-8277ea6a639c"
      },
      "source": [
        "#(i)\n",
        "models_data = {\"Initial model\": (model, Xtest), \"TF-IDF model\": (model_tfidf, tfidf_transformer.transform(Xtest).toarray())}\n",
        "for this_label, (this_model, this_Xtest) in models_data.items():\n",
        "  test_loss, test_accuracy = this_model.evaluate(this_Xtest, ytest, verbose=0)\n",
        "  print(this_label,)\n",
        "  print(\"Test loss:\", test_loss)\n",
        "  print(\"Test accuracy:\", test_accuracy)\n",
        "  print(\"---------------------------------------\")\n",
        "\n",
        "# - The test accuracy is lower, probably because it is completely disjoint from the training set (in terms of movie titles), whereas the randomly selected samples during training are not.\n",
        "# - Be careful when automatically / randomly selecting validation data from the training set, or better, do it manually with knowledge of the task and dataset."
      ],
      "execution_count": null,
      "outputs": [
        {
          "output_type": "stream",
          "name": "stdout",
          "text": [
            "Initial model\n",
            "Test loss: 0.643122673034668\n",
            "Test accuracy: 0.8468000292778015\n",
            "---------------------------------------\n",
            "TF-IDF model\n",
            "Test loss: 0.40631213784217834\n",
            "Test accuracy: 0.8646000027656555\n",
            "---------------------------------------\n"
          ]
        }
      ]
    },
    {
      "cell_type": "markdown",
      "source": [
        "---\n",
        "(j) Inspect the predictions of the first model on the first 10 documents in the test set (use the model.predict method). Also convert the test documents to human-readable format as before. Do the predictions seem sensible?"
      ],
      "metadata": {
        "id": "CxoMupXYQPFh"
      }
    },
    {
      "cell_type": "code",
      "source": [
        "#(j)\n",
        "print(model.predict(Xtest[:10]))\n",
        "\n",
        "for document in Xtest_seq[:10]:\n",
        "  print()\n",
        "  for term_index in document:\n",
        "    term = index_to_term[term_index]\n",
        "    print(term, end=\" \")"
      ],
      "metadata": {
        "colab": {
          "base_uri": "https://localhost:8080/"
        },
        "id": "7t_ZT42lQ-Ss",
        "outputId": "b862a656-4344-4bb2-f221-dd34c4b550d4"
      },
      "execution_count": null,
      "outputs": [
        {
          "output_type": "stream",
          "name": "stdout",
          "text": [
            "[[0.00155729]\n",
            " [0.99980253]\n",
            " [0.99783254]\n",
            " [0.99325705]\n",
            " [0.9981064 ]\n",
            " [0.9987519 ]\n",
            " [0.99839604]\n",
            " [0.00179178]\n",
            " [0.996541  ]\n",
            " [0.9997978 ]]\n",
            "\n",
            "START please give this one a miss br br OOV OOV and the rest of the cast rendered terrible performances the show is flat flat flat br br i don't know how michael madison could have allowed this one on his plate he almost seemed to know this wasn't going to work out and his performance was quite OOV so all you madison fans give this a miss \n",
            "START this film requires a lot of patience because it focuses on mood and character development the plot is very simple and many of the scenes take place on the same set in frances OOV the sandy dennis character apartment but the film builds to a disturbing climax br br the characters create an atmosphere OOV with sexual tension and psychological OOV it's very interesting that robert altman directed this considering the style and structure of his other films still the trademark altman audio style is evident here and there i think what really makes this film work is the brilliant performance by sandy dennis it's definitely one of her darker characters but she plays it so perfectly and convincingly that it's scary michael burns does a good job as the mute young man regular altman player michael murphy has a small part the OOV moody set fits the content of the story very well in short this movie is a powerful study of loneliness sexual OOV and desperation be patient OOV up the atmosphere and pay attention to the wonderfully written script br br i praise robert altman this is one of his many films that deals with unconventional fascinating subject matter this film is disturbing but it's sincere and it's sure to OOV a strong emotional response from the viewer if you want to see an unusual film some might even say bizarre this is worth the time br br unfortunately it's very difficult to find in video stores you may have to buy it off the internet \n",
            "START many animation buffs consider OOV OOV the great forgotten genius of one special branch of the art puppet animation which he invented almost single OOV and as it happened almost accidentally as a young man OOV was more interested in OOV than the cinema but his OOV attempt to film two OOV OOV fighting led to an unexpected breakthrough in film making when he realized he could OOV movement by OOV beetle OOV and OOV them one frame at a time this discovery led to the production of amazingly elaborate classic short the OOV revenge which he made in russia in OOV at a time when motion picture animation of all sorts was in its OOV br br the political OOV of the russian revolution caused OOV to move to paris where one of his first productions OOV was a dark political satire OOV known as OOV or the OOV who wanted a king a strain of black comedy can be found in almost all of films but here it is very dark indeed aimed more at grown ups who can appreciate the satirical aspects than children who would most likely find the climax OOV i'm middle aged and found it pretty OOV myself and indeed OOV of the film intended for english speaking viewers of the 1920s were given title cards filled with OOV and OOV in order to help OOV the sharp OOV of the finale br br our tale is set in a swamp the OOV OOV where the citizens are unhappy with their government and have called a special session to see what they can do to improve matters they decide to OOV OOV for a king the crowds are OOV animated in this opening sequence it couldn't have been easy to make so many frog puppets look alive simultaneously while OOV for his part is depicted as a OOV white OOV guy in the clouds who looks like he'd rather be taking a OOV when OOV sends them a tree like god who regards them the OOV decide that this is no improvement and demand a different king irritated OOV sends them a OOV br br delighted with this OOV looking new king who towers above them the OOV welcome him with a OOV of OOV dressed OOV the mayor steps forward to hand him the key to the OOV as OOV cameras record the event to everyone's horror the OOV promptly eats the mayor and then goes on a merry rampage OOV citizens at random a title card OOV reads news of the king's OOV throughout the kingdom when the now terrified OOV once more OOV OOV for help he loses his temper and OOV their community with lightning OOV the moral of our story delivered by a hapless frog just before he is eaten is let well enough alone br br considering the time period when this startling little film was made and considering the fact that it was made by a russian OOV at the height of that OOV country's civil war it would be easy to see this as a OOV about those events OOV may or may not have had OOV turmoil in mind when he made OOV but whatever OOV his choice of material the film stands as a OOV tale of universal OOV OOV could be the soviet union italy germany or japan in the 1930s or any country of any era that lets its guard down and is overwhelmed by OOV it's a fascinating film even a charming one in its macabre way but its message is no joke \n",
            "START i generally love this type of movie however this time i found myself wanting to kick the screen since i can't do that i will just complain about it this was absolutely idiotic the things that happen with the dead kids are very cool but the alive people are absolute idiots i am a grown man pretty big and i can defend myself well however i would not do half the stuff the little girl does in this movie also the mother in this movie is reckless with her children to the point of neglect i wish i wasn't so angry about her and her actions because i would have otherwise enjoyed the flick what a number she was take my advise and fast forward through everything you see her do until the end also is anyone else getting sick of watching movies that are filmed so dark anymore one can hardly see what is being filmed as an audience we are OOV involved with the actions on the screen so then why the hell can't we have night vision \n",
            "START like some other people wrote i'm a die hard mario fan and i loved this game br br this game starts slightly boring but trust me it's worth it as soon as you start your hooked the levels are fun and OOV they will hook you OOV your mind turns to OOV i'm not kidding this game is also OOV and is beautifully done br br to keep this spoiler free i have to keep my mouth shut about details but please try this game it'll be worth it br br story 9 9 action 10 1 it's that good OOV 10 attention OOV 10 average 10 \n",
            "START i'm absolutely disgusted this movie isn't being sold all who love this movie should email disney and increase the demand for it they'd eventually have to sell it then i'd buy copies for everybody i know everything and everybody in this movie did a good job and i haven't figured out why disney hasn't put this movie on dvd or on vhs in rental stores at least i haven't seen any copies this is a wicked good movie and should be seen by all the kids in the new generation don't get to see it and i think they should it should at least be put back on the channel this movie doesn't deserve a cheap OOV it deserves the real thing i'm them now this movie will be on dvd \n",
            "START originally supposed to be just a part of a huge epic the year OOV depicting the revolution of OOV OOV is the story of the OOV of the crew of the OOV in OOV harbor the film opens with the crew OOV meat and the captain OOV the execution of the an OOV takes place during which the revolutionary leader is killed this OOV is taken to the shore to lie in state when the OOV gather on a huge flight of steps OOV the harbor OOV troops appear and march down the steps breaking up the crowd a naval OOV is sent to OOV the OOV but at the moment when the ships come into range their OOV allow the to pass through OOV non historically accurate ending is open ended thus OOV that this was the seed of the later OOV revolution that would bloom in russia the film is broken into five parts men and OOV drama on the an appeal from the dead the OOV steps and meeting the OOV br br OOV was a revolutionary artist but at the genius level not wanting to make a historical drama OOV used visual OOV to give the film a OOV look so that the viewer feels he is OOV on a thrilling and politically revolutionary story this technique is used by the battle of OOV br br unlike OOV relied on or the casting of non professionals who had striking physical appearances the extraordinary faces of the cast are what one remembers from OOV this technique is later used by frank OOV in mr deeds goes to town and meet john OOV but in OOV no one individual is cast as a hero or heroine the story is told through a series of scenes that are combined in a special effect known as montage the editing and selection of short segments to produce a desired effect on the viewer d w griffith also used the montage but no one OOV it so well as OOV br br the artistic filming of the crew sleeping in their is OOV by the OOV swinging of tables suspended from chains in the OOV in contrast the confrontation between the crew and their officers is charged with electricity and the OOV OOV of the masses demonstrate their rage with injustice br br OOV introduced the technique of showing an action and repeating it again but from a slightly different angle to demonstrate intensity the breaking of a plate bearing the words give us this day our daily bread OOV the beginning of the end this technique is used in last year at OOV also when the OOV surgeon is tossed over the side his OOV OOV from the OOV it was these glasses that the officer used to OOV and pass the OOV OOV meat this sequence ties the punishment to the corruption of the OOV era br br the most noted sequence in the film and perhaps in all of film history is the OOV steps the broad OOV of the steps are filled with hundreds of extras rapid and dramatic violence is always suggested and not explicit yet the visual images of the deaths of a few will last in the minds of the viewer forever br br the OOV shots of OOV boots and legs OOV the steps are cleverly OOV with long menacing shadows from a sun at the top of the steps the pace of the sequence is deliberately varied between the OOV soldiers and a few civilians who OOV up courage to beg them to stop a close up of a woman's face frozen in horror after being struck by a OOV sword is the direct OOV of the bank OOV in bonnie in clyde and gives a lasting impression of the horror of the OOV regime br br the death of a young mother leads to a baby OOV OOV down the steps in a sequence that has been copied by hitchcock in foreign OOV by terry gilliam in brazil and brian OOV in the OOV this sequence is shown repeatedly from various angles thus drawing out what probably was only a five second event br br OOV is a film that the revolutionary spirit OOV it for those already committed and it for the OOV it OOV of fire and OOV with the senseless OOV of the OOV OOV regime its greatest impact has been on film students who have borrowed and only slightly improved on techniques invented in russia several generations ago \n",
            "START the OOV richard OOV dog is OOV to OOV joan fontaine dog however when OOV bing crosby arrives in town to sell a record player to the emperor his dog is attacked by OOV dog after a revenge attack where OOV is OOV from town a OOV insists that OOV dog must confront dog so that she can overcome her OOV fears this is arranged and the dogs fall in love so do OOV and OOV the rest of the film passes by with romance and at the end OOV dog gives birth but who is the father br br the dog story is the very weak vehicle that is used to try and create a story between humans its a terrible storyline there are 3 main musical pieces all of which are rubbish bad songs and dreadful choreography its just an extremely boring film bing has too many words in each sentence and delivers them in an almost irritating manner its not funny ever but its meant to be bing and joan have done much better than this \n",
            "START hollywood had a long love affair with bogus OOV nights tales but few of these products have stood the test of time the most memorable were the jon hall maria OOV films which have long since become camp this one is filled with dubbed songs OOV OOV and slapstick it's a truly crop of corn and pretty near OOV today it was nominated for its imaginative special effects which are almost OOV in this day and age OOV mainly of trick photography the only outstanding positive feature which survives is its beautiful color and clarity sad to say of the many films made in this genre few of them come up to alexander OOV original thief of OOV almost any other OOV nights film is superior to this one though it's a loser \n",
            "START this film is where the batman franchise ought to have stopped though i will OOV that the ideas behind batman forever were excellent and could have been easily realised by a competent director as it turned out this was not to be the case br br apparently warner brothers executives were disappointed with how dark this second batman film from tim burton turned out apart from the idiocy of expecting anything else from burton and the conservative OOV of their subsequent decision to turn the franchise into an homage to the sixties tv series i fail to understand how batman returns can be considered at all disappointing br br true it is not quite the equal of the first film though it OOV all the minor OOV of style found in batman a weaker script that OOV the OOV between not just two but three characters invites OOV comparisons to the masterful pairing of keaton and jack nicholson as the joker in the first film yet for all this it remains a OOV dark film true to the way the batman was always meant to be and highly satisfying br br michael keaton returns as the batman and his alter ego bruce wayne with OOV max OOV christopher walken named in honour of the 1920s german silent actor his partner in crime OOV OOV the penguin danny OOV in brilliant makeup reminiscent of laurence OOV richard iii and OOV kyle the OOV michelle pfeiffer whom wayne romances both as himself and as the batman the four principals turn in excellent performances especially walken and OOV while together keaton and pfeiffer explore the darker side of double identities br br there are some intriguing concepts in this film about the only weakness i can really point out is a certain to the script in some places which i think is due mostly to the way this film is a four OOV fight there simply isn't enough time to properly explore what's going on br br nevertheless this is a damn good film i highly recommend watching this in OOV with the first and then OOV for how good the series could have been had it continued under burton and keaton "
          ]
        }
      ]
    },
    {
      "cell_type": "markdown",
      "metadata": {
        "id": "kwo-IoP4YEz2"
      },
      "source": [
        "---\n",
        "(k) **Optional:** Experiment with the problem to try to improve performance, e.g. by changing the the structure of the network: size, number of layers, optimizer, learning rate, number of epochs.\n"
      ]
    }
  ]
}