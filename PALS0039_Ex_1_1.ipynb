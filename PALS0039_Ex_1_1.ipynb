{
  "nbformat": 4,
  "nbformat_minor": 0,
  "metadata": {
    "colab": {
      "provenance": [],
      "include_colab_link": true
    },
    "kernelspec": {
      "name": "python3",
      "display_name": "Python 3"
    },
    "language_info": {
      "name": "python"
    }
  },
  "cells": [
    {
      "cell_type": "markdown",
      "metadata": {
        "id": "view-in-github",
        "colab_type": "text"
      },
      "source": [
        "<a href=\"https://colab.research.google.com/github/HanSong19/PALS0039-Introduction-to-Deep-Learning-for-Speech-and-Language-Processing-/blob/main/PALS0039_Ex_1_1.ipynb\" target=\"_parent\"><img src=\"https://colab.research.google.com/assets/colab-badge.svg\" alt=\"Open In Colab\"/></a>"
      ]
    },
    {
      "cell_type": "markdown",
      "source": [
        "[![PALS0039 Logo](https://www.phon.ucl.ac.uk/courses/pals0039/images/pals0039logo.png)](https://www.phon.ucl.ac.uk/courses/pals0039/)\n",
        "\n",
        "# Exercise 1.1 Python practice\n",
        "\n",
        "## Statistics, functions and methods\n",
        "\n",
        "Recall the following code from a previous exercise:"
      ],
      "metadata": {
        "id": "8o1WhTfxSMkD"
      }
    },
    {
      "cell_type": "code",
      "metadata": {
        "id": "rgoxpzjw65Uj",
        "outputId": "89064e6b-d0ef-497e-8ab2-d2451dc5b5c1",
        "colab": {
          "base_uri": "https://localhost:8080/",
          "height": 301
        }
      },
      "source": [
        "# Use python modules:\n",
        "import numpy as np\n",
        "import scipy.stats as ss\n",
        "import matplotlib.pyplot as plt\n",
        "%matplotlib inline\n",
        "\n",
        "f_pitch_mean = 160.0\n",
        "f_pitch_sdev = 15.0\n",
        "m_pitch_mean = 120.0\n",
        "m_pitch_sdev = 11.7\n",
        "\n",
        "# Plot distributions\n",
        "x_values = np.arange(start=75.0,\n",
        "                     stop=225.0,\n",
        "                     step=0.001)\n",
        "f_pitch_distribution = ss.norm(f_pitch_mean,\n",
        "                                f_pitch_sdev)\n",
        "m_pitch_distribution = ss.norm(m_pitch_mean,\n",
        "                                m_pitch_sdev)\n",
        "\n",
        "plt.plot(x_values,\n",
        "         f_pitch_distribution.pdf(x_values),\n",
        "         label=\"Female pitch distribution\")\n",
        "plt.plot(x_values,\n",
        "         m_pitch_distribution.pdf(x_values),\n",
        "         label=\"Male pitch distribution\")\n",
        "plt.legend()\n",
        "\n"
      ],
      "execution_count": 67,
      "outputs": [
        {
          "output_type": "stream",
          "name": "stdout",
          "text": [
            "<scipy.stats._distn_infrastructure.rv_frozen object at 0x7f1e6f2e0af0>\n"
          ]
        },
        {
          "output_type": "execute_result",
          "data": {
            "text/plain": [
              "<matplotlib.legend.Legend at 0x7f1e6f21dbb0>"
            ]
          },
          "metadata": {},
          "execution_count": 67
        },
        {
          "output_type": "display_data",
          "data": {
            "text/plain": [
              "<Figure size 432x288 with 1 Axes>"
            ],
            "image/png": "[encoded data removed]"
          },
          "metadata": {
            "needs_background": "light"
          }
        }
      ]
    },
    {
      "cell_type": "markdown",
      "source": [
        "The two normal distributions describe the typical pitch values found in the speech of female and male speakers and are represented by the *Python objects* **`f_pitch_distribution`** and **`m_pitch_distribution`**. These objects have *methods* that may be used to query the distributions, for example, the *probability density function* (`pdf` method) is used in the above plots (see [this reference](https://docs.scipy.org/doc/scipy/reference/generated/scipy.stats.norm.html) for more information).\n",
        "\n",
        "(a) Using these distributions, write a Python function that would *classify* a pitch value from a new utterance as being spoken by either a female or male speaker **based on which is most likely**.\n",
        "\n",
        "(b) Apply the function to the two sets of measurements taken for male and female speakers (defined in `pitch_male_utterances` and `pitch_female_utterances`) and print out the results.\n",
        "\n",
        "(c) Does the classifier perform perfectly on the test measurements? Why?"
      ],
      "metadata": {
        "id": "DifAPzbyURVY"
      }
    },
    {
      "cell_type": "code",
      "execution_count": 68,
      "metadata": {
        "id": "HT4erJcgR4po",
        "outputId": "cc9425c8-5f13-4652-fdaf-8015ba4efeef",
        "colab": {
          "base_uri": "https://localhost:8080/"
        }
      },
      "outputs": [
        {
          "output_type": "stream",
          "name": "stdout",
          "text": [
            "--------------------------------------\n",
            "RESULTS FOR FEMALE PITCH MEASUREMENTS:\n",
            "173.035\tmale\n",
            "151.889\tmale\n",
            "172.42\tmale\n",
            "177.477\tmale\n",
            "201.272\tmale\n",
            "147.098\tmale\n",
            "149.223\tmale\n",
            "150.374\tmale\n",
            "134.374\tfemale\n",
            "171.97\tmale\n",
            "--------------------------------------\n",
            "RESULTS FOR MALE PITCH MEASUREMENTS:\n",
            "150.637\tmale\n",
            "137.966\tfemale\n",
            "140.504\tmale\n",
            "96.626\tfemale\n",
            "131.268\tfemale\n",
            "124.797\tfemale\n",
            "142.892\tmale\n",
            "123.493\tfemale\n",
            "117.713\tfemale\n",
            "130.044\tfemale\n",
            "--------------------------------------\n"
          ]
        }
      ],
      "source": [
        "f_pitch_measurements = [173.035,\n",
        "                        151.889,\n",
        "                        172.420,\n",
        "                        177.477,\n",
        "                        201.272,\n",
        "                        147.098,\n",
        "                        149.223,\n",
        "                        150.374,\n",
        "                        134.374,\n",
        "                        171.970]\n",
        "m_pitch_measurements = [150.637,\n",
        "                        137.966,\n",
        "                        140.504,\n",
        "                         96.626,\n",
        "                        131.268,\n",
        "                        124.797,\n",
        "                        142.892,\n",
        "                        123.493,\n",
        "                        117.713,\n",
        "                        130.044]\n",
        " \n",
        "#(a)\n",
        "def classify_utterance_speaker(pitch_value):\n",
        "  if f_pitch_distribution.pdf(pitch_value) < m_pitch_distribution.pdf(pitch_value):\n",
        "    return 'female'\n",
        "  else:\n",
        "    return 'male'\n",
        "\n",
        "\n",
        "\n",
        "#(b)\n",
        "print(\"--------------------------------------\")\n",
        "print(\"RESULTS FOR FEMALE PITCH MEASUREMENTS:\")\n",
        "for i in f_pitch_measurements:\n",
        "  print(i, classify_utterance_speaker(i), sep=\"\\t\")\n",
        "print(\"--------------------------------------\")\n",
        "print(\"RESULTS FOR MALE PITCH MEASUREMENTS:\")\n",
        "for i in m_pitch_measurements:\n",
        "  print(i, classify_utterance_speaker(i), sep='\\t')\n",
        "print(\"--------------------------------------\")\n",
        "\n",
        "#(c)\n",
        "#ANSWER"
      ]
    },
    {
      "cell_type": "markdown",
      "source": [
        "## Text manipulation\n",
        "\n",
        "Given the text string assigned to the Python variable `two_cities`, do the following:\n",
        "\n",
        "(d) Write a function or code to split the text into a list of words, removing all punctuation in the process.\n",
        "\n",
        "Hint: Python's [`string`](https://docs.python.org/3/library/string.html) module contains useful methods and definitions.\n",
        "\n",
        "(e) Count the total number of words and unique words used.\n",
        "\n",
        "(f) Count the number of occurrences of each word and print the results in descending order by frequency of occurrence.\n",
        "\n",
        "Hints:\n",
        "- You could use a Python dictionary to keep track of the word counts.\n",
        "- You may find useful tools in Python's [`collections`](https://docs.python.org/3/library/collections.html) module.\n",
        "- Python's [sorting documentation](https://docs.python.org/3/howto/sorting.html)\n",
        "\n",
        "(g) Would your code work regardless of the input language? Why? How would you write a language-independent version?"
      ],
      "metadata": {
        "id": "1VlQeVtq-Fcz"
      }
    },
    {
      "cell_type": "code",
      "source": [
        "# Use python modules:\n",
        "import numpy as np\n",
        "import scipy.stats as ss\n",
        "import matplotlib.pyplot as plt\n",
        "import string\n",
        "import collections\n",
        "import operator\n",
        "from collections import Counter\n",
        "\n",
        "#From: https://www.gutenberg.org/files/98/98-h/98-h.htm\n",
        "two_cities = \"\"\"\n",
        "It was the best of times, it was the worst of times,\n",
        "it was the age of wisdom, it was the age of foolishness,\n",
        "it was the epoch of belief, it was the epoch of incredulity,\n",
        "it was the season of Light, it was the season of Darkness,\n",
        "it was the spring of hope, it was the winter of despair,\n",
        "we had everything before us, we had nothing before us,\n",
        "we were all going direct to Heaven, we were all going direct the other way,\n",
        "in short, the period was so far like the present period,\n",
        "that some of its noisiest authorities insisted on its being received,\n",
        "for good or for evil, in the superlative degree of comparison only.\n",
        "\"\"\"\n",
        "\n",
        "#(d)\n",
        "def tokenize(text):\n",
        "  for p in string.punctuation:\n",
        "    text= text.replace(p,\" \")\n",
        "  return text.lower().split()\n",
        "\n",
        "\n",
        "#(e)\n",
        "print(\"the total number of words:\", len(tokenize(two_cities)))\n",
        "\n",
        "print(\"the numbe of unique words:\", len(set(tokenize(two_cities))))\n",
        "\n",
        "#(f)\n",
        "#https://docs.python.org/3/library/operator.html <<--- see operator.itemgetter\n",
        "word_counter=Counter(tokenize(two_cities))\n",
        "word_frequency=list(word_counter.items())\n",
        "print(word_frequency)\n",
        "\n",
        "word_frequency.sort(key=operator.itemgetter(1), reverse=True)\n",
        "for w, f in word_frequency:\n",
        "  print(w,f, sep='\\t')"
      ],
      "metadata": {
        "id": "WWPJ7CvCAoT8",
        "outputId": "b46c7d4f-3655-403c-d2eb-4d1167867d5e",
        "colab": {
          "base_uri": "https://localhost:8080/"
        }
      },
      "execution_count": 54,
      "outputs": [
        {
          "output_type": "stream",
          "name": "stdout",
          "text": [
            "the total number of words: 119\n",
            "the numbe of unique words: 58\n",
            "[('it', 10), ('was', 11), ('the', 14), ('best', 1), ('of', 12), ('times', 2), ('worst', 1), ('age', 2), ('wisdom', 1), ('foolishness', 1), ('epoch', 2), ('belief', 1), ('incredulity', 1), ('season', 2), ('light', 1), ('darkness', 1), ('spring', 1), ('hope', 1), ('winter', 1), ('despair', 1), ('we', 4), ('had', 2), ('everything', 1), ('before', 2), ('us', 2), ('nothing', 1), ('were', 2), ('all', 2), ('going', 2), ('direct', 2), ('to', 1), ('heaven', 1), ('other', 1), ('way', 1), ('in', 2), ('short', 1), ('period', 2), ('so', 1), ('far', 1), ('like', 1), ('present', 1), ('that', 1), ('some', 1), ('its', 2), ('noisiest', 1), ('authorities', 1), ('insisted', 1), ('on', 1), ('being', 1), ('received', 1), ('for', 2), ('good', 1), ('or', 1), ('evil', 1), ('superlative', 1), ('degree', 1), ('comparison', 1), ('only', 1)]\n",
            "the\t14\n",
            "of\t12\n",
            "was\t11\n",
            "it\t10\n",
            "we\t4\n",
            "times\t2\n",
            "age\t2\n",
            "epoch\t2\n",
            "season\t2\n",
            "had\t2\n",
            "before\t2\n",
            "us\t2\n",
            "were\t2\n",
            "all\t2\n",
            "going\t2\n",
            "direct\t2\n",
            "in\t2\n",
            "period\t2\n",
            "its\t2\n",
            "for\t2\n",
            "best\t1\n",
            "worst\t1\n",
            "wisdom\t1\n",
            "foolishness\t1\n",
            "belief\t1\n",
            "incredulity\t1\n",
            "light\t1\n",
            "darkness\t1\n",
            "spring\t1\n",
            "hope\t1\n",
            "winter\t1\n",
            "despair\t1\n",
            "everything\t1\n",
            "nothing\t1\n",
            "to\t1\n",
            "heaven\t1\n",
            "other\t1\n",
            "way\t1\n",
            "short\t1\n",
            "so\t1\n",
            "far\t1\n",
            "like\t1\n",
            "present\t1\n",
            "that\t1\n",
            "some\t1\n",
            "noisiest\t1\n",
            "authorities\t1\n",
            "insisted\t1\n",
            "on\t1\n",
            "being\t1\n",
            "received\t1\n",
            "good\t1\n",
            "or\t1\n",
            "evil\t1\n",
            "superlative\t1\n",
            "degree\t1\n",
            "comparison\t1\n",
            "only\t1\n"
          ]
        }
      ]
    }
  ]
}