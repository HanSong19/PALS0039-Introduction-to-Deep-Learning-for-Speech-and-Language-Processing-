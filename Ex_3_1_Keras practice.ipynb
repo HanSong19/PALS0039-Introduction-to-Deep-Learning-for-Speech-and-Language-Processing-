{
  "nbformat": 4,
  "nbformat_minor": 0,
  "metadata": {
    "colab": {
      "provenance": [],
      "include_colab_link": true
    },
    "kernelspec": {
      "name": "python3",
      "display_name": "Python 3"
    }
  },
  "cells": [
    {
      "cell_type": "markdown",
      "metadata": {
        "id": "view-in-github",
        "colab_type": "text"
      },
      "source": [
        "<a href=\"https://colab.research.google.com/github/HanSong19/PALS0039-Introduction-to-Deep-Learning-for-Speech-and-Language-Processing-/blob/main/Ex_3_1_Keras%20practice.ipynb\" target=\"_parent\"><img src=\"https://colab.research.google.com/assets/colab-badge.svg\" alt=\"Open In Colab\"/></a>"
      ]
    },
    {
      "cell_type": "markdown",
      "metadata": {
        "id": "cIFXp68GRrpz"
      },
      "source": [
        "[![PALS0039 Logo](https://www.phon.ucl.ac.uk/courses/pals0039/images/pals0039logo.png)](https://www.phon.ucl.ac.uk/courses/pals0039/)\n",
        "\n",
        "#Exercise 3.1 Keras practice\n",
        "\n",
        "In this exercise we use Keras to build and train a small 4-2-4 [autoencoder](https://en.wikipedia.org/wiki/Autoencoder)."
      ]
    },
    {
      "cell_type": "markdown",
      "metadata": {
        "id": "vJSnFLaaR0BS"
      },
      "source": [
        "(a) The following code block constructs a simple network with 4 inputs, one hidden layer (with 2 nodes), and 4 outputs. Run the code and add comments to explain what each line does. Is this a regression or classification model? What are the ranges of output values the model is capable of producing?"
      ]
    },
    {
      "cell_type": "code",
      "source": [
        "import numpy as np\n",
        "import matplotlib.pyplot as plt\n",
        "%matplotlib inline\n",
        "from tensorflow.keras.models import Sequential, Model                           ## sequential is a multi-layer neutral network\n",
        "from tensorflow.keras.layers import Dense\n",
        "from tensorflow.keras.optimizers import SGD\n",
        "\n",
        "\n",
        "model = Sequential()                                                            ## prepare a model (model is empty at this point)\n",
        "\n",
        "model.add(Dense(2, activation='sigmoid', input_shape=(4,), name=\"hidden_layer\"))# model.add: adding layer to the model\n",
        "                                                                                # (no need to \"add\" the input layer because I only need input form as in input_shape)\n",
        "                                                                                # Dense fully connects the current layer to all previous input including weights\n",
        "                                                                                # the first parameter '2' shows the number of perceptrons (units). The number can change\n",
        "                                                                                # input_shape: is only needed in the first layer and it stores weightsn (from the second layer, it is automatic)\n",
        "                                                                                #              it is a single vector that has 4 features (inputs)\n",
        "                                                                                # if needed, more hidden_layers can be added\n",
        "\n",
        "model.add(Dense(4, activation='sigmoid', name=\"output_layer\"))                  # the output layer has 4 features (perceptrons)\n",
        "\n",
        "sgd = SGD(learning_rate=0.1, momentum=0.9)                                      # optimiser is stochaic gradient descent, learning rate of 0.1 is fast\n",
        "                                                                                # momentum takes the precise stop into account\n",
        "model.compile(loss='mse', optimizer=sgd)                                        # model.compile: finish/conceal the model and the model is ready to run\n",
        "                                                                                ## the first node has 10 parameters (4 input features) x (2 outputs) + 2 biases\n",
        "                                                                                ## the second node has 12 parameters (2 input features) x (4 outputs) + 4 biases\n",
        "\n",
        "model.summary()\n",
        "\n",
        "'''\n",
        "the model looks like this\n",
        "\n",
        "input hidden output\n",
        "x.             x\n",
        "x.      x.     x\n",
        "x.      x.     x\n",
        "x              x\n",
        "\n",
        "This model reduces the dimension. 4 input to 2 in the hidden layer. why? \n",
        "maybe 4 features are too many and see if we can reduce dimensions.\n",
        "auto encoder is often used to reduce the #of features automatically.\n",
        "\n",
        "'''"
      ],
      "metadata": {
        "colab": {
          "base_uri": "https://localhost:8080/",
          "height": 303
        },
        "id": "xiSCJlqz7Lcl",
        "outputId": "af97d33e-4e8c-49c0-8d16-01b307aa09cf"
      },
      "execution_count": 2,
      "outputs": [
        {
          "output_type": "stream",
          "name": "stdout",
          "text": [
            "Model: \"sequential\"\n",
            "_________________________________________________________________\n",
            " Layer (type)                Output Shape              Param #   \n",
            "=================================================================\n",
            " hidden_layer (Dense)        (None, 2)                 10        \n",
            "                                                                 \n",
            " output_layer (Dense)        (None, 4)                 12        \n",
            "                                                                 \n",
            "=================================================================\n",
            "Total params: 22\n",
            "Trainable params: 22\n",
            "Non-trainable params: 0\n",
            "_________________________________________________________________\n"
          ]
        },
        {
          "output_type": "execute_result",
          "data": {
            "text/plain": [
              "'\\nthe model looks like this\\n\\ninput hidden output\\nx.             x\\nx.      x.     x\\nx.      x.     x\\nx              x\\n\\nThis model reduces the dimension. 4 input to 2 in the hidden layer. why? \\nmaybe 4 features are too many and see if we can reduce dimensions.\\nauto encoder is often used to reduce the #of features automatically.\\n\\n'"
            ],
            "application/vnd.google.colaboratory.intrinsic+json": {
              "type": "string"
            }
          },
          "metadata": {},
          "execution_count": 2
        }
      ]
    },
    {
      "cell_type": "code",
      "metadata": {
        "id": "nBwByTZaRq7m",
        "colab": {
          "base_uri": "https://localhost:8080/"
        },
        "outputId": "9e520cd1-967c-426d-ee88-2f62fa43f8a7"
      },
      "source": [
        "# Import libraries\n",
        "import numpy as np\n",
        "import matplotlib.pyplot as plt\n",
        "%matplotlib inline\n",
        "from tensorflow.keras.models import Sequential, Model                           \n",
        "                                                                                ## if tensorflow is only imported, I need to use it as a=tensor.flow.keras.models.Sequential ()\n",
        "from tensorflow.keras.layers import Dense                                       ## However, when I import Sequential from tensorflow.keras.models, then I can just call it a=Sequential()\n",
        "from tensorflow.keras.optimizers import SGD\n",
        "\n",
        "# Instructions to build the Keras model\n",
        "def build_model():\n",
        "  # Variable \"model\" is of class tensorflow.keras.models.Sequential\n",
        "  # That class represents neural networks, where one layer is processed after another. (This represents almost all neural networks, but look for skip connections and the ResNet if interested in more powerful architectures. They are used in our application, for example the WaveNet: https://www.deepmind.com/blog/wavenet-a-generative-model-for-raw-audio)\n",
        "  # The neural network is empty at this point.\n",
        "  model = Sequential()\n",
        "  # Class tensorflow.keras.models.Sequential has a function \"add\" that adds a layer to the network\n",
        "  # We add the first layer. It is of type Dense, the typical layer in a MLP that is fully connected to the previous layer\n",
        "  # It has two units. Their activation functions are sigmoids.\n",
        "  # Because it is the first layer we have to specify the number of inputs. Four inputs for our two nodes lead to 4x2=8 weights, plus 2 bias weights.\n",
        "  # The name is useful for bigger networks or when we want to copy parts of the network.\n",
        "  model.add(Dense(2, activation='sigmoid', input_shape=(4,), name=\"hidden_layer\"))\n",
        "  # We add another layers with 4 nodes. The model already knows that this layer receives inputs from the two nodes of the previous layer.\n",
        "  # This layer will have 2x4 = 8 weights plus 4 bias weights.\n",
        "  model.add(Dense(4, activation='sigmoid', name=\"output_layer\"))\n",
        "  # We create an object for the optimizer, from the class SGD, and we name it \"sgd\". We give it bigger parameters than the defaul to train faster.\n",
        "  sgd = SGD(learning_rate=0.1, momentum=0.9)\n",
        "  # The \"compile()\" of class tensorflow.keras.models.Sequential actually creates the model and we can start training.\n",
        "  # We specify the loss function to be the mean squared error and the optimizer.\n",
        "  # If we wanted to use an optimizer with its default values, we could simply specify it by name, for example optimizer='Adam'\n",
        "  model.compile(loss='mse', optimizer=sgd)\n",
        "  return model\n",
        "\n",
        "# Input data\n",
        "X = np.array([[1.0, 0.0, 0.0, 0.0],\n",
        "              [0.0, 1.0, 0.0, 0.0],\n",
        "              [0.0, 0.0, 1.0, 0.0],\n",
        "              [0.0, 0.0, 0.0, 1.0]])\n",
        "# Output data\n",
        "Y = X.copy()\n",
        "\n",
        "print(\"Input\\n\", X)\n",
        "print(\"Output\\n\", Y)\n",
        "\n",
        "#(a)\n",
        "# - Regression\n",
        "# - [0.0, 1.0] -- Sigmoid activation function"
      ],
      "execution_count": 4,
      "outputs": [
        {
          "output_type": "stream",
          "name": "stdout",
          "text": [
            "Input\n",
            " [[1. 0. 0. 0.]\n",
            " [0. 1. 0. 0.]\n",
            " [0. 0. 1. 0.]\n",
            " [0. 0. 0. 1.]]\n",
            "Output\n",
            " [[1. 0. 0. 0.]\n",
            " [0. 1. 0. 0.]\n",
            " [0. 0. 1. 0.]\n",
            " [0. 0. 0. 1.]]\n"
          ]
        }
      ]
    },
    {
      "cell_type": "markdown",
      "metadata": {
        "id": "x5b20_6ArIlz"
      },
      "source": [
        "(b) Complete the code block below to train the model on the data defined above using the model's [`fit` method](https://keras.io/api/models/model_training_apis/#fit-method). Use the specification in the comments to set up the training parameters accordingly."
      ]
    },
    {
      "cell_type": "code",
      "metadata": {
        "id": "XepltgxvrK74",
        "colab": {
          "base_uri": "https://localhost:8080/",
          "height": 576
        },
        "outputId": "ff519087-7680-4ee1-dac8-b2310100878a"
      },
      "source": [
        "# Build the model using the earlier function\n",
        "# Now my model is created (4 input, 2 hidden, 4 output as designed in the previous cell)\n",
        "model = build_model()\n",
        "\n",
        "# Train the model using 1000 iterations through the dataset with weight updates after processing each individual sample:\n",
        "# verbose: shows the process, verbose = 0: shows nothing, verbose = 1 shows === process, verbose = 2 shows 1/1000\n",
        "#(b) train the model and show the history of loss\n",
        "training = model.fit(X,Y, epochs=1000, batch_size=1, verbose=0)\n",
        "\n",
        "# Plot the value of the loss function over training\n",
        "# .history['loss'] shows the training records of 'lose'. I can also search the record of ['accuracy'], ['val_accuacy'] etc.\n",
        "plt.plot(training.history['loss'])\n",
        "plt.xlabel('Epoch')\n",
        "plt.ylabel('Loss')\n",
        "plt.show()\n",
        "\n",
        "# Print the predicted output values for the training data\n",
        "# predit the input data (X)\n",
        "# np.around is used to round floating-point datatypes\n",
        "prediction = model.predict(X)\n",
        "print(np.around(prediction, decimals=2), sep=\"\\n\")\n"
      ],
      "execution_count": 14,
      "outputs": [
        {
          "output_type": "display_data",
          "data": {
            "text/plain": [
              "<Figure size 640x480 with 1 Axes>"
            ],
            "image/png": "[encoded data removed]"
          },
          "metadata": {}
        },
        {
          "output_type": "stream",
          "name": "stderr",
          "text": [
            "WARNING:tensorflow:6 out of the last 6 calls to <function Model.make_predict_function.<locals>.predict_function at 0x7f8f3932c9d0> triggered tf.function retracing. Tracing is expensive and the excessive number of tracings could be due to (1) creating @tf.function repeatedly in a loop, (2) passing tensors with different shapes, (3) passing Python objects instead of tensors. For (1), please define your @tf.function outside of the loop. For (2), @tf.function has reduce_retracing=True option that can avoid unnecessary retracing. For (3), please refer to https://www.tensorflow.org/guide/function#controlling_retracing and https://www.tensorflow.org/api_docs/python/tf/function for  more details.\n"
          ]
        },
        {
          "output_type": "stream",
          "name": "stdout",
          "text": [
            "1/1 [==============================] - 0s 61ms/step\n",
            "[[0.92 0.05 0.09 0.  ]\n",
            " [0.07 0.91 0.   0.06]\n",
            " [0.05 0.   0.9  0.05]\n",
            " [0.   0.06 0.08 0.92]]\n"
          ]
        }
      ]
    },
    {
      "cell_type": "markdown",
      "metadata": {
        "id": "ayV_VSD1sIAu"
      },
      "source": [
        "The following code block displays the network configuration, including number of parameters (weights) that were estimated during training. Furthermore it displays the actual weights and biases of the trained model."
      ]
    },
    {
      "cell_type": "code",
      "metadata": {
        "id": "dk83yfrqbfd3",
        "colab": {
          "base_uri": "https://localhost:8080/"
        },
        "outputId": "b7f607f1-a4a4-4a7f-a3cb-6fb91562909a"
      },
      "source": [
        "# Print a summary of the structure of the model\n",
        "model.summary()\n",
        "\n",
        "# Get the weights as a numpy array\n",
        "weights=model.get_weights()\n",
        "\n",
        "# Print the weights for the different layers\n",
        "print()\n",
        "print(\"hidden-to-input:\", weights[0], \"\", sep=\"\\n\")\n",
        "print(\"hidden-bias:\", weights[1], \"\", sep=\"\\n\")\n",
        "print(\"output-to-hidden:\", weights[2], \"\", sep=\"\\n\")\n",
        "print(\"output-bias:\", weights[3], \"\", sep=\"\\n\")"
      ],
      "execution_count": null,
      "outputs": [
        {
          "output_type": "stream",
          "name": "stdout",
          "text": [
            "Model: \"sequential_7\"\n",
            "_________________________________________________________________\n",
            " Layer (type)                Output Shape              Param #   \n",
            "=================================================================\n",
            " hidden_layer (Dense)        (None, 2)                 10        \n",
            "                                                                 \n",
            " output_layer (Dense)        (None, 4)                 12        \n",
            "                                                                 \n",
            "=================================================================\n",
            "Total params: 22\n",
            "Trainable params: 22\n",
            "Non-trainable params: 0\n",
            "_________________________________________________________________\n",
            "\n",
            "hidden-to-input:\n",
            "[[ 3.6054046 -3.8012464]\n",
            " [ 4.002356   3.5553718]\n",
            " [-3.4110186  3.1151538]\n",
            " [-3.296096  -3.8271542]]\n",
            "\n",
            "hidden-bias:\n",
            "[-0.43773174  0.01515787]\n",
            "\n",
            "output-to-hidden:\n",
            "[[ 5.5122886  4.6055098 -5.719882  -5.5360875]\n",
            " [-5.7167788  4.61819    5.4929566 -5.5702066]]\n",
            "\n",
            "output-bias:\n",
            "[-2.6757283 -6.8441386 -2.6540287  2.5983984]\n",
            "\n"
          ]
        }
      ]
    },
    {
      "cell_type": "markdown",
      "metadata": {
        "id": "HPI2e5SnkDbM"
      },
      "source": [
        "(c) Using the sigmoid function defined below, write some code to manually calculate the outputs of the network using the `weights` and `X` as input. **OR** Explain how the weights and biases are used to calculate the networks outputs."
      ]
    },
    {
      "cell_type": "code",
      "metadata": {
        "id": "-1rCOKjtkH5H",
        "colab": {
          "base_uri": "https://localhost:8080/"
        },
        "outputId": "c14d6223-bace-4d21-af59-0bcdc401cfd7"
      },
      "source": [
        "# definition of the signoid activation function\n",
        "def sigmoid(x):\n",
        "  return 1 / (1 + np.exp(-x))\n",
        "  \n",
        "#(c)\n",
        "#For each training sample:\n",
        "for i in range(4):\n",
        "  # Get the input\n",
        "  input = X[i]\n",
        "  # Calculate the hidden layer activations\n",
        "  hidden_activations = sigmoid(np.matmul(input, weights[0]) + weights[1])\n",
        "  # Get the output layer activations\n",
        "  output_activations = sigmoid(np.matmul(hidden_activations, weights[2]) + weights[3])\n",
        "  # Print the input, hidden and output values for this sample\n",
        "  print(input, np.around(hidden_activations, decimals=2), np.around(output_activations, decimals=2), sep=\"\\t\")\n"
      ],
      "execution_count": null,
      "outputs": [
        {
          "output_type": "stream",
          "name": "stdout",
          "text": [
            "[1. 0. 0. 0.]\t[0.03 0.97]\t[0.92 0.09 0.   0.06]\n",
            "[0. 1. 0. 0.]\t[0.98 0.96]\t[0.06 0.89 0.05 0.  ]\n",
            "[0. 0. 1. 0.]\t[0.91 0.02]\t[0.   0.09 0.92 0.05]\n",
            "[0. 0. 0. 1.]\t[0.01 0.04]\t[0.07 0.   0.07 0.91]\n"
          ]
        }
      ]
    },
    {
      "cell_type": "markdown",
      "source": [
        "# (d) What are autoencoders useful for?"
      ],
      "metadata": {
        "id": "_uek-sS6hsM1"
      }
    },
    {
      "cell_type": "code",
      "source": [
        "#(d)\n",
        "#https://en.wikipedia.org/wiki/Autoencoder#Applications"
      ],
      "metadata": {
        "id": "S_W0Ttu1h04c"
      },
      "execution_count": null,
      "outputs": []
    }
  ]
}