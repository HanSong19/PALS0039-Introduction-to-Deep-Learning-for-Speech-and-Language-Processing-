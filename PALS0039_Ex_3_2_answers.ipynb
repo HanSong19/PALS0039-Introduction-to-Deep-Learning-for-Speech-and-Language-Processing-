{
  "nbformat": 4,
  "nbformat_minor": 0,
  "metadata": {
    "colab": {
      "provenance": [],
      "include_colab_link": true
    },
    "kernelspec": {
      "name": "python3",
      "display_name": "Python 3"
    }
  },
  "cells": [
    {
      "cell_type": "markdown",
      "metadata": {
        "id": "view-in-github",
        "colab_type": "text"
      },
      "source": [
        "<a href=\"https://colab.research.google.com/github/HanSong19/PALS0039-Introduction-to-Deep-Learning-for-Speech-and-Language-Processing-/blob/main/PALS0039_Ex_3_2_answers.ipynb\" target=\"_parent\"><img src=\"https://colab.research.google.com/assets/colab-badge.svg\" alt=\"Open In Colab\"/></a>"
      ]
    },
    {
      "cell_type": "markdown",
      "metadata": {
        "id": "K9iIFPb3tljn"
      },
      "source": [
        "[![PALS0039 Logo](https://www.phon.ucl.ac.uk/courses/pals0039/images/pals0039logo.png)](https://www.phon.ucl.ac.uk/courses/pals0039/)\n",
        "\n",
        "#Exercise 3.2 Classification with a neural network\n",
        "\n",
        "In this exercise we train a model to classify vowels from their [formant frequencies](https://en.wikipedia.org/wiki/Formant)."
      ]
    },
    {
      "cell_type": "markdown",
      "source": [
        "Similarly to Exercise 2.3, the following code reads in and summarises a data set of vowel formant frequencies."
      ],
      "metadata": {
        "id": "LAozoDDrmGBm"
      }
    },
    {
      "cell_type": "code",
      "metadata": {
        "id": "YbGbZU26taor",
        "colab": {
          "base_uri": "https://localhost:8080/"
        },
        "outputId": "ab46e606-0031-4408-98fb-55cd15825d1f"
      },
      "source": [
        "import numpy as np\n",
        "import pandas as pd\n",
        "import matplotlib.pyplot as plt\n",
        "%matplotlib inline\n",
        "from tensorflow.keras.models import Sequential, Model\n",
        "from tensorflow.keras.layers import Dense\n",
        "from tensorflow.keras.optimizers import SGD\n",
        "from tensorflow.keras.utils import to_categorical\n",
        "\n",
        "df = pd.read_csv(\"https://www.phon.ucl.ac.uk/courses/pals0039/data/exercise_02/vowels.csv\")\n",
        "# Convert SEX and VOWEL columns from string to category datatypes and from there adds columns for integer representations:\n",
        "df[\"SEX\"] = df[\"SEX\"].astype(\"category\")\n",
        "#cat.codes: change the strongs of category to numbers\n",
        "df[\"SEX_IDX\"] = df[\"SEX\"].cat.codes\n",
        "df[\"VOWEL\"] = df[\"VOWEL\"].astype(\"category\")\n",
        "df[\"VOWEL_IDX\"] = df[\"VOWEL\"].cat.codes\n",
        "\n",
        "print(df)\n",
        "print(\"----------------------------------------------------\")\n",
        "print(df.describe())"
      ],
      "execution_count": 1,
      "outputs": [
        {
          "output_type": "stream",
          "name": "stdout",
          "text": [
            "    SPEAKER    WORD VOWEL       F1       F2     SEX  HEIGHT  SEX_IDX  \\\n",
            "0        S1     bad     æ  848.070  1450.96    male     173        1   \n",
            "1        S1    bard     ɑ  648.318  1126.22    male     173        1   \n",
            "2        S1    bead     i  259.000  1834.00    male     173        1   \n",
            "3        S1     bed     e  578.985  1715.22    male     173        1   \n",
            "4        S1     bid     ɪ  405.000  1899.00    male     173        1   \n",
            "..      ...     ...   ...      ...      ...     ...     ...      ...   \n",
            "479     S44   board     ɔ  420.000  1088.00  female     170        0   \n",
            "480     S44     bod     ɒ  615.000  1077.00  female     170        0   \n",
            "481     S44   booed     u  415.000  1764.00  female     170        0   \n",
            "482     S44     bud     ʌ  860.000  1304.00  female     170        0   \n",
            "483     S44  buddha     ʊ  447.000  1806.00  female     170        0   \n",
            "\n",
            "     VOWEL_IDX  \n",
            "0            3  \n",
            "1            4  \n",
            "2            1  \n",
            "3            0  \n",
            "4            8  \n",
            "..         ...  \n",
            "479          6  \n",
            "480          5  \n",
            "481          2  \n",
            "482         10  \n",
            "483          9  \n",
            "\n",
            "[484 rows x 9 columns]\n",
            "----------------------------------------------------\n",
            "                F1           F2      HEIGHT     SEX_IDX  VOWEL_IDX\n",
            "count   484.000000   484.000000  484.000000  484.000000  484.00000\n",
            "mean    581.277636  1575.983760  169.886364    0.295455    5.00000\n",
            "std     185.575341   470.556998    8.572037    0.456719    3.16555\n",
            "min     177.566000   379.000000  157.000000    0.000000    0.00000\n",
            "25%     446.993250  1256.122500  163.000000    0.000000    2.00000\n",
            "50%     549.234000  1541.425000  169.000000    0.000000    5.00000\n",
            "75%     710.177750  1853.197500  175.250000    1.000000    8.00000\n",
            "max    1059.120000  2875.000000  193.000000    1.000000   10.00000\n"
          ]
        }
      ]
    },
    {
      "cell_type": "markdown",
      "source": [
        "---\n",
        "[Normalise](https://en.wikipedia.org/wiki/Standard_score) selected columns (in-place) in preparation:"
      ],
      "metadata": {
        "id": "xCI67hwB-NUs"
      }
    },
    {
      "cell_type": "code",
      "source": [
        "df_subset = df[[\"F1\", \"F2\", \"HEIGHT\", \"SEX_IDX\"]]\n",
        "df[[\"F1\", \"F2\", \"HEIGHT\", \"SEX_IDX\"]] = (df_subset - df_subset.mean()) / df_subset.std()\n",
        "print(df)\n",
        "#norminalizing Sex Index does not really show any information"
      ],
      "metadata": {
        "colab": {
          "base_uri": "https://localhost:8080/"
        },
        "id": "jHNG3r1T-V7Z",
        "outputId": "49c2944d-8753-4acc-9b61-2acba1e5e273"
      },
      "execution_count": 3,
      "outputs": [
        {
          "output_type": "stream",
          "name": "stdout",
          "text": [
            "    SPEAKER    WORD VOWEL        F1        F2     SEX    HEIGHT   SEX_IDX  \\\n",
            "0        S1     bad     æ  1.437650 -0.265693    male  0.363232  1.542624   \n",
            "1        S1    bard     ɑ  0.361257 -0.955811    male  0.363232  1.542624   \n",
            "2        S1    bead     i -1.736640  0.548321    male  0.363232  1.542624   \n",
            "3        S1     bed     e -0.012354  0.295897    male  0.363232  1.542624   \n",
            "4        S1     bid     ɪ -0.949898  0.686455    male  0.363232  1.542624   \n",
            "..      ...     ...   ...       ...       ...     ...       ...       ...   \n",
            "479     S44   board     ɔ -0.869068 -1.037034  female  0.013257 -0.646907   \n",
            "480     S44     bod     ɒ  0.181718 -1.060411  female  0.013257 -0.646907   \n",
            "481     S44   booed     u -0.896011  0.399561  female  0.013257 -0.646907   \n",
            "482     S44     bud     ʌ  1.501936 -0.578004  female  0.013257 -0.646907   \n",
            "483     S44  buddha     ʊ -0.723575  0.488817  female  0.013257 -0.646907   \n",
            "\n",
            "     VOWEL_IDX  \n",
            "0            3  \n",
            "1            4  \n",
            "2            1  \n",
            "3            0  \n",
            "4            8  \n",
            "..         ...  \n",
            "479          6  \n",
            "480          5  \n",
            "481          2  \n",
            "482         10  \n",
            "483          9  \n",
            "\n",
            "[484 rows x 9 columns]\n"
          ]
        }
      ]
    },
    {
      "cell_type": "markdown",
      "source": [
        "---\n",
        "The code below randomly selects a small held-out test set. The remaining samples are defined as the training set."
      ],
      "metadata": {
        "id": "KETx-ttoF8GV"
      }
    },
    {
      "cell_type": "code",
      "source": [
        "#make training and test sets\n",
        "#make the fraction of what I have and made a simple\n",
        "test_set = df.sample(frac=0.05, random_state=0)\n",
        "print(test_set.describe())\n",
        "\n",
        "\n",
        "train_set = df.drop(test_set.index)\n",
        "print(train_set.describe())"
      ],
      "metadata": {
        "colab": {
          "base_uri": "https://localhost:8080/"
        },
        "id": "i-POxZEfGEYH",
        "outputId": "cd99cf51-ed93-484a-9cdc-6c3b7580995c"
      },
      "execution_count": 4,
      "outputs": [
        {
          "output_type": "stream",
          "name": "stdout",
          "text": [
            "              F1         F2     HEIGHT    SEX_IDX  VOWEL_IDX\n",
            "count  24.000000  24.000000  24.000000  24.000000  24.000000\n",
            "mean   -0.043947   0.387959   0.134776   0.082937   4.500000\n",
            "std     0.897234   0.709581   0.986574   1.054354   3.989116\n",
            "min    -1.791858  -0.629857  -1.269986  -0.646907   0.000000\n",
            "25%    -0.524156  -0.024883  -0.715858  -0.646907   0.000000\n",
            "50%    -0.077613   0.266007   0.013257  -0.646907   3.500000\n",
            "75%     0.524890   0.757116   1.179841   1.542624   8.250000\n",
            "max     1.639347   1.918017   1.763132   1.542624  10.000000\n",
            "               F1          F2      HEIGHT     SEX_IDX   VOWEL_IDX\n",
            "count  460.000000  460.000000  460.000000  460.000000  460.000000\n",
            "mean     0.002293   -0.020241   -0.007032   -0.004327    5.026087\n",
            "std      1.005904    1.009345    1.001257    0.998101    3.119859\n",
            "min     -2.175459   -2.543759   -1.503302   -0.646907    0.000000\n",
            "25%     -0.729399   -0.738718   -0.803352   -0.646907    2.000000\n",
            "50%     -0.178656   -0.092420   -0.220060   -0.646907    5.000000\n",
            "75%      0.697828    0.581739    0.596549    1.542624    8.000000\n",
            "max      2.574924    2.760593    2.696400    1.542624   10.000000\n"
          ]
        }
      ]
    },
    {
      "cell_type": "markdown",
      "source": [
        "---\n",
        "Convert vowel (output categories) to [one-hot encoding](https://en.wikipedia.org/wiki/One-hot) stored in a new numpy arrays."
      ],
      "metadata": {
        "id": "pNPalBflBRng"
      }
    },
    {
      "cell_type": "code",
      "source": [
        "# used 1-10 index for 11 vowel is not a good idea because some vowels are more similar to each other than the other\n",
        "# because regression thinks that the vowel (randomly coded as 4 and 5 ) are more similar than the vowels 1,10 but it can/ cannot be true\n",
        "# in order to avoid this mistake, I have 11 different colums to identify each vowel (1,0,0,0,0,0,0,0,0,0,0) so that the model does not have\n",
        "# a wrong interpretation of each category.\n",
        "# one-hot encoding is also widely used in output as well.\n",
        "\n",
        "\n",
        "train_set_vowels = to_categorical(train_set[\"VOWEL_IDX\"])\n",
        "test_set_vowels = to_categorical(test_set[\"VOWEL_IDX\"])\n",
        "\n",
        "print(\"--------------------------------------------\")\n",
        "print(\"ORIGINAL:\", test_set[[\"VOWEL\", \"VOWEL_IDX\"]][:5], sep=\"\\n\")\n",
        "print(\"--------------------------------------------\")\n",
        "print(\"ONE-HOT ENCODED:\", test_set_vowels[:5], sep=\"\\n\")"
      ],
      "metadata": {
        "colab": {
          "base_uri": "https://localhost:8080/"
        },
        "id": "E-vE_mB_BwYu",
        "outputId": "a5043f74-0463-4e97-dff7-0bf1f8840583"
      },
      "execution_count": 5,
      "outputs": [
        {
          "output_type": "stream",
          "name": "stdout",
          "text": [
            "--------------------------------------------\n",
            "ORIGINAL:\n",
            "    VOWEL  VOWEL_IDX\n",
            "15      ɪ          8\n",
            "124     e          0\n",
            "141     ʌ         10\n",
            "263     ʊ          9\n",
            "170     ɜ          7\n",
            "--------------------------------------------\n",
            "ONE-HOT ENCODED:\n",
            "[[0. 0. 0. 0. 0. 0. 0. 0. 1. 0. 0.]\n",
            " [1. 0. 0. 0. 0. 0. 0. 0. 0. 0. 0.]\n",
            " [0. 0. 0. 0. 0. 0. 0. 0. 0. 0. 1.]\n",
            " [0. 0. 0. 0. 0. 0. 0. 0. 0. 1. 0.]\n",
            " [0. 0. 0. 0. 0. 0. 0. 1. 0. 0. 0.]]\n"
          ]
        }
      ]
    },
    {
      "cell_type": "markdown",
      "metadata": {
        "id": "4A5F1Ttcw1nP"
      },
      "source": [
        "---\n",
        "(a) Following the example in [Exercise 3.1](https://colab.research.google.com/drive/1EaiimLfOx6scK-EGhWtXmCYmfhCWyVut?usp=sharing), complete the implementation of the function below; it should create a new model with 1 internal layer and configurable layer widths (specificied by the `build_model` arguments given) and have suitable output layer **activation function** and **loss function** for a **classification task**.\n",
        "\n",
        "Hint: Include the \"accuracy\" metric as parameter in the [`compile` method](https://keras.io/api/models/model_training_apis/#compile-method)"
      ]
    },
    {
      "cell_type": "code",
      "metadata": {
        "id": "5ZaFcKI4xAM2"
      },
      "source": [
        "# function to build a network\n",
        "def build_model(input_width, hidden_width, output_width):\n",
        "  model=Sequential()\n",
        "  model.add(Dense(hidden_width, activation='sigmoid', input_shape=(input_width,), name=\"hidden_layer\"))\n",
        "  # because the task is category, so use softmax actibvation instead.\n",
        "  model.add(Dense(output_width, activation='softmax', name=\"output_layer\"))\n",
        "  sgd = SGD(learning_rate=0.1, momentum=0.9)\n",
        "  # when it is continous (regression), then the loss fuction is mse, when it is categorial, then use 'categorical crossentropy'\n",
        "  # madrics= accuracy: instead of loss, tell me accuracy\n",
        "  model.compile(loss='categorical_crossentropy', optimizer=sgd, metrics=[\"accuracy\"])\n",
        "  return model"
      ],
      "execution_count": 6,
      "outputs": []
    },
    {
      "cell_type": "markdown",
      "metadata": {
        "id": "4Hr9M4IvysFU"
      },
      "source": [
        "---\n",
        "(b) Train the network using the `F1`, `F2`, `HEIGHT` and `SEX_IDX` columns as input data and encoded vowel categories as outputs. You will need to specify the input and output widths to correspond to the input and output data and use 32 as the internal layer width. Furthermore, use 100 training iterations and a batch size of 16.\n",
        "\n",
        "Hint: Use pandas and numpy [`shape` property](https://numpy.org/doc/stable/reference/generated/numpy.shape.html) on the dataframe or array to get the correct data widths."
      ]
    },
    {
      "cell_type": "code",
      "metadata": {
        "id": "YONJ4Z-jy3ll",
        "colab": {
          "base_uri": "https://localhost:8080/"
        },
        "outputId": "e27f764b-667b-4d0d-b606-6c4fef726e46"
      },
      "source": [
        "#(b)\n",
        "Xtrain = train_set[[\"F1\", \"F2\", \"HEIGHT\", \"SEX_IDX\"]]\n",
        "ytrain = train_set_vowels\n",
        "Xtest = test_set[[\"F1\", \"F2\", \"HEIGHT\", \"SEX_IDX\"]]\n",
        "ytest = test_set_vowels\n",
        "\n",
        "#.shape is like the size. \n",
        "model = build_model(Xtrain.shape[1], 32, ytrain.shape[1])\n",
        "training_info = model.fit(Xtrain, ytrain, validation_data=(Xtest, ytest), epochs=100, batch_size=16, verbose=0)\n",
        "\n",
        "# Evaluate the trained model on the training and test sets\n",
        "train_loss, train_accuracy = model.evaluate(Xtrain, ytrain, verbose=0)\n",
        "test_loss, test_accuracy = model.evaluate(Xtest, ytest, verbose=0)\n",
        "\n",
        "print(\"TRAIN SET ACCURACY:\", train_accuracy, sep=\"\\t\")\n",
        "print(\"TEST SET ACCURACY:\", test_accuracy, sep=\"\\t\")"
      ],
      "execution_count": 11,
      "outputs": [
        {
          "output_type": "stream",
          "name": "stdout",
          "text": [
            "TRAIN SET ACCURACY:\t0.7434782385826111\n",
            "TEST SET ACCURACY:\t0.75\n"
          ]
        }
      ]
    },
    {
      "cell_type": "markdown",
      "source": [
        "---\n",
        "(c) Recall the accuracies obtained on this task in Exercise 2.3. How does the above result compare?"
      ],
      "metadata": {
        "id": "tG_IFVcPVsW3"
      }
    },
    {
      "cell_type": "code",
      "source": [
        "#(c)"
      ],
      "metadata": {
        "id": "XBRd5jqvWLcx"
      },
      "execution_count": null,
      "outputs": []
    },
    {
      "cell_type": "markdown",
      "source": [
        "---\n",
        "The following block of code plots the training and validation set losses for each iteration of the training process.\n",
        "\n",
        "(d) Is the final model overfitting, underfitting or close to optimal?"
      ],
      "metadata": {
        "id": "9SRNDFrTWls1"
      }
    },
    {
      "cell_type": "code",
      "source": [
        "#based on the two accuracy, it seems like they are optimal because they are very similar\n",
        "# Plot the training process:\n",
        "fig, axs = plt.subplots(1, 2, figsize=(16, 5))\n",
        "axs[0].plot(training_info.history['loss'], label=\"training set\")\n",
        "axs[0].plot(training_info.history['val_loss'], label=\"validation set\")\n",
        "axs[0].set_xlabel(\"Epoch\")\n",
        "axs[0].set_ylabel(\"Loss\")\n",
        "axs[0].grid(True)\n",
        "axs[0].legend()\n",
        "try:\n",
        "  axs[1].plot(training_info.history['accuracy'], label=\"training set\")\n",
        "  axs[1].plot(training_info.history['val_accuracy'], label=\"validation set\")\n",
        "  axs[1].set_xlabel(\"Epoch\")\n",
        "  axs[1].set_ylabel(\"Accuracy\")\n",
        "  axs[1].grid(True)\n",
        "  axs[1].legend()\n",
        "except:\n",
        "  pass\n",
        "plt.show()\n",
        "\n",
        "#(d)\n",
        "# - Overfitting: The validation error has started to increase from its best value.\n",
        "# overfitting means that the validation gets lower where training stays the same\n",
        "# if we stop early (around epoch 20-40 because that is the highest validation set and no over-generlaization is shown\n",
        "# so if I stop early, then I can avoid over-fitting. \n",
        "'''\n",
        "https://keras.io/api/callbacks/early_stopping/\n",
        "\n",
        ">>> callback = tf.keras.callbacks.EarlyStopping(monitor='loss', patience=3)\n",
        ">>> # This callback will stop the training when there is no improvement in\n",
        ">>> # the loss for three consecutive epochs.\n",
        ">>> model = tf.keras.models.Sequential([tf.keras.layers.Dense(10)])\n",
        ">>> model.compile(tf.keras.optimizers.SGD(), loss='mse')\n",
        ">>> history = model.fit(np.arange(100).reshape(5, 20), np.zeros(5),\n",
        "...                     epochs=10, batch_size=1, callbacks=[callback],\n",
        "...                     verbose=0)\n",
        ">>> len(history.history['loss'])  # Only 4 epochs are run.\n",
        "4\n",
        "'''\n"
      ],
      "metadata": {
        "colab": {
          "base_uri": "https://localhost:8080/",
          "height": 334
        },
        "id": "NNW4bIz1TJpV",
        "outputId": "62295b28-46f4-494d-8621-940a32bfe7d8"
      },
      "execution_count": 12,
      "outputs": [
        {
          "output_type": "display_data",
          "data": {
            "text/plain": [
              "<Figure size 1152x360 with 2 Axes>"
            ],
            "image/png": "[encoded data removed]"
          },
          "metadata": {
            "needs_background": "light"
          }
        }
      ]
    },
    {
      "cell_type": "markdown",
      "metadata": {
        "id": "l7QmdT1GISfh"
      },
      "source": [
        "---\n",
        "(e) Experiment with changing the internal layer width, the number of training epochs and the learning rate. Can you find a configuration which improves on the best performance obtained in Exercise 2.3?"
      ]
    },
    {
      "cell_type": "code",
      "source": [
        "#(e)\n",
        "# Yes - ~0.9 vs ~0.8 on the validation set (increasing the internal layer width helps)"
      ],
      "metadata": {
        "id": "H1Rt9sR1fGW7"
      },
      "execution_count": null,
      "outputs": []
    },
    {
      "cell_type": "markdown",
      "source": [
        "(f) How could you implement [early stopping](https://en.wikipedia.org/wiki/Early_stopping) using Keras to avoid overfitting during training?"
      ],
      "metadata": {
        "id": "-R4rtPGOf1Qt"
      }
    },
    {
      "cell_type": "code",
      "source": [
        "#(f)\n",
        "# https://keras.io/api/callbacks/early_stopping/"
      ],
      "metadata": {
        "id": "zq0Ka_AMgK3j"
      },
      "execution_count": null,
      "outputs": []
    },
    {
      "cell_type": "markdown",
      "source": [
        "(g) The configuration of the data used in Exercise 2.3 differs significantly from what was done in this exercise, both regarding input features and normalisation. (1) List the differences below and (2) discuss the rationale behind these alternatives. (3) Discuss the practical differences of these approaches when the system needs to be deployed.\n",
        "\n",
        "Hint: It is necessary to consider the nature and variability of [formant frequencies](https://en.wikipedia.org/wiki/Formant) here."
      ],
      "metadata": {
        "id": "LzfSXeHRgloq"
      }
    },
    {
      "cell_type": "code",
      "source": [
        "#(g)\n",
        "#(1)\n",
        "# - Inclusion of height and gender as inputs vs not.\n",
        "# - Normalisation of values by speaker vs not.\n",
        "\n",
        "#(2)\n",
        "# - Formant frequencies are scaled (vary) systematically by vocal tract length\n",
        "# - Vocal tract lengths are significantly different between males and female (due to physical size differences)\n",
        "# - Height may be an informative feature as it may indicate the relative size of individuals (which would be related to formant frequency variation)\n",
        "# - In the previous exercise we did not consider gender and height but did normalise all values by speaker (which would similarly compensate)\n",
        "\n",
        "#(3)\n",
        "# - The Ex 2.3 model would need to get enough speech input to estimate the speaker statistics accurately before it can be expected to perform well.\n",
        "# - The model in this exercise would need to know the gender and height measurement of the speaker (i.e. it cannot rely on speech data alone)."
      ],
      "metadata": {
        "id": "eOsCeVqmgk8t"
      },
      "execution_count": null,
      "outputs": []
    }
  ]
}