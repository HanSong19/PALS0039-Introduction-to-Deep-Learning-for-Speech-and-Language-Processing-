{
  "nbformat": 4,
  "nbformat_minor": 0,
  "metadata": {
    "colab": {
      "provenance": [],
      "include_colab_link": true
    },
    "kernelspec": {
      "name": "python3",
      "display_name": "Python 3"
    },
    "language_info": {
      "name": "python"
    }
  },
  "cells": [
    {
      "cell_type": "markdown",
      "metadata": {
        "id": "view-in-github",
        "colab_type": "text"
      },
      "source": [
        "<a href=\"https://colab.research.google.com/github/HanSong19/PALS0039-Introduction-to-Deep-Learning-for-Speech-and-Language-Processing-/blob/main/PALS0039_Ex_0_2.ipynb\" target=\"_parent\"><img src=\"https://colab.research.google.com/assets/colab-badge.svg\" alt=\"Open In Colab\"/></a>"
      ]
    },
    {
      "cell_type": "markdown",
      "metadata": {
        "id": "JBMivrCW9Y2J"
      },
      "source": [
        "[![PALS0039 Logo](https://www.phon.ucl.ac.uk/courses/pals0039/images/pals0039logo.png)](https://www.phon.ucl.ac.uk/courses/pals0039/)\n",
        "\n",
        "# Exercise 0.2: Arithmetic expressions\n",
        "\n",
        "Define and plot the following two points in the $xy$-plane:\n",
        "\n",
        "$$p = (3.0, 1.0)$$\n",
        "$$q = (1.0, 2.0)$$\n",
        "\n",
        "and calculate the Euclidean distance by writing a Python expression for the following formula:\n",
        "\n",
        "$$d(p,q) = \\sqrt{(q_1 - p_1)^2 + (q_2 - p_2)^2}$$\n",
        "\n",
        "by completing the following code block:"
      ]
    },
    {
      "cell_type": "code",
      "metadata": {
        "id": "GbTgrWR5-S28",
        "outputId": "5ecaa316-2349-43d8-a76f-594be6ec5bac",
        "colab": {
          "base_uri": "https://localhost:8080/",
          "height": 283
        }
      },
      "source": [
        "# Use python modules:\n",
        "from math import sqrt\n",
        "import matplotlib.pyplot as plt\n",
        "%matplotlib inline\n",
        "\n",
        "# Define variables for points p and q:\n",
        "p = [3.0, 1.0]\n",
        "q = [1.0, 2.0]\n",
        "\n",
        "# Plot points p and q:\n",
        "plt.plot(p[0], p[1], marker=\"o\")\n",
        "plt.plot(q[0], q[1], marker=\"o\")\n",
        "\n",
        "# Calculate the Euclidean distance\n",
        "d = sqrt((p[0]-q[0])**2 + (p[1]-q[1])**2)\n",
        "print(\"The Euclidean distance between p and q is:\", d)"
      ],
      "execution_count": 3,
      "outputs": [
        {
          "output_type": "stream",
          "name": "stdout",
          "text": [
            "The Euclidean distance between p and q is: 2.23606797749979\n"
          ]
        },
        {
          "output_type": "display_data",
          "data": {
            "text/plain": [
              "<Figure size 432x288 with 1 Axes>"
            ],
            "image/png": "[encoded data removed]"
          },
          "metadata": {
            "needs_background": "light"
          }
        }
      ]
    }
  ]
}