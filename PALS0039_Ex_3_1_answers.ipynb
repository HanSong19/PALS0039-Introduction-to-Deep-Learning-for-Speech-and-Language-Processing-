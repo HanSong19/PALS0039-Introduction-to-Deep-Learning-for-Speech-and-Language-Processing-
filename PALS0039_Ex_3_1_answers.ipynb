{
  "nbformat": 4,
  "nbformat_minor": 0,
  "metadata": {
    "colab": {
      "provenance": [],
      "include_colab_link": true
    },
    "kernelspec": {
      "name": "python3",
      "display_name": "Python 3"
    }
  },
  "cells": [
    {
      "cell_type": "markdown",
      "metadata": {
        "id": "view-in-github",
        "colab_type": "text"
      },
      "source": [
        "<a href=\"https://colab.research.google.com/github/HanSong19/PALS0039-Introduction-to-Deep-Learning-for-Speech-and-Language-Processing-/blob/main/PALS0039_Ex_3_1_answers.ipynb\" target=\"_parent\"><img src=\"https://colab.research.google.com/assets/colab-badge.svg\" alt=\"Open In Colab\"/></a>"
      ]
    },
    {
      "cell_type": "markdown",
      "metadata": {
        "id": "cIFXp68GRrpz"
      },
      "source": [
        "[![PALS0039 Logo](https://www.phon.ucl.ac.uk/courses/pals0039/images/pals0039logo.png)](https://www.phon.ucl.ac.uk/courses/pals0039/)\n",
        "\n",
        "#Exercise 3.1 Keras practice\n",
        "\n",
        "In this exercise we use Keras to build and train a small 4-2-4 [autoencoder](https://en.wikipedia.org/wiki/Autoencoder)."
      ]
    },
    {
      "cell_type": "markdown",
      "metadata": {
        "id": "vJSnFLaaR0BS"
      },
      "source": [
        "(a) The following code block constructs a simple network with 4 inputs, one hidden layer (with 2 nodes), and 4 outputs. Run the code and add comments to explain what each line does. Is this a regression or classification model? What are the ranges of output values the model is capable of producing?"
      ]
    },
    {
      "cell_type": "code",
      "source": [
        "import numpy as np\n",
        "import matplotlib.pyplot as plt\n",
        "%matplotlib inline\n",
        "from tensorflow.keras.models import Sequential, Model\n",
        "from tensorflow.keras.layers import Dense\n",
        "from tensorflow.keras.optimizers import SGD\n",
        "## if it is only import tensorflow, then, when I use later it has to by a=tensor.flow.keras.models.Sequential() but when I import Sequential from \n",
        "## from tensorflow.keras.modls import Sequential, then I can just call it like a=Sequential()\n",
        "\n",
        "#it initiate a neural network: I have a model and it is an empty neural network\n",
        "#sequential is a multi layer neural network\n",
        "model = Sequential()\n",
        "\n",
        "#no need of the input layer because I only need the input form not layer. \n",
        "#model.add : adds a layer to the model\n",
        "#the first layer is a dense: danse is a fully connected to all the previous input with weights\n",
        "#the first parameter is the number of unit, here, there are 2 units, The number of unit can be changed depending on the task/ goal fo the model\n",
        "#input shape: store the weights (only need it in the first layer and from the second later, it will be automatic)\n",
        "# input_shape(4,) mans it is a single vector, 4 means that there are 4 features (inputs)\n",
        "model.add(Dense(2, activation='sigmoid', input_shape=(4,), name=\"hidden_layer\"))\n",
        "\n",
        "#if I want more hidden layer, I can add more and more\n",
        "#model.add(Dense(4, activation='sigmoid', name=\"output_layer2\"))\n",
        "\n",
        "model.add(Dense(4, activation='sigmoid', name=\"output_layer\"))\n",
        "\n",
        "#Reconstruc obtimizer. Stochaic gradient descent. I can choose, leanring rate=0.1 is very fast\n",
        "#momentum: taking the precious step into account\n",
        "sgd = SGD(learning_rate=0.1, momentum=0.9)\n",
        "\n",
        "#.compile is that I finished build and secure the model and I am ready to train the model\n",
        "model.compile(loss='mse', optimizer=sgd)\n",
        "# output shape (None,2), None=empty because waiting for the input\n",
        "# first node has 10 parameter (first layer has 2 input that is 4(input_shape)*2(2 output nodes) +2 biases)\n",
        "# the second node has 12 parameter (2*4+4 (4 biases of the second layer))\n",
        "\n",
        "model.summary()\n",
        "\n",
        "\n",
        "'''\n",
        "the model looks like this\n",
        "\n",
        "input hidden output\n",
        "x.             x\n",
        "x.      x.     x\n",
        "x.      x.     x\n",
        "x              x\n",
        "\n",
        "This model reduces the dimension. 4 input to 2 in the hidden layer. why? \n",
        "maybe 4 features are too many and see if we can reduce dimensions.\n",
        "auto encoder is often used to reduce the #of features automatically.\n",
        "\n",
        "'''"
      ],
      "metadata": {
        "colab": {
          "base_uri": "https://localhost:8080/"
        },
        "id": "xiSCJlqz7Lcl",
        "outputId": "aea68464-44dd-4859-e1c8-9fb29332a60b"
      },
      "execution_count": 1,
      "outputs": [
        {
          "output_type": "stream",
          "name": "stdout",
          "text": [
            "Model: \"sequential\"\n",
            "_________________________________________________________________\n",
            " Layer (type)                Output Shape              Param #   \n",
            "=================================================================\n",
            " hidden_layer (Dense)        (None, 2)                 10        \n",
            "                                                                 \n",
            " output_layer (Dense)        (None, 4)                 12        \n",
            "                                                                 \n",
            "=================================================================\n",
            "Total params: 22\n",
            "Trainable params: 22\n",
            "Non-trainable params: 0\n",
            "_________________________________________________________________\n"
          ]
        }
      ]
    },
    {
      "cell_type": "code",
      "metadata": {
        "id": "nBwByTZaRq7m",
        "colab": {
          "base_uri": "https://localhost:8080/"
        },
        "outputId": "530c4d2b-1798-4388-d579-83e5c2e6a823"
      },
      "source": [
        "# Import libraries\n",
        "import numpy as np\n",
        "import matplotlib.pyplot as plt\n",
        "%matplotlib inline\n",
        "from tensorflow.keras.models import Sequential, Model\n",
        "from tensorflow.keras.layers import Dense\n",
        "from tensorflow.keras.optimizers import SGD\n",
        "\n",
        "# Instructions to build the Keras model\n",
        "def build_model():\n",
        "  # Variable \"model\" is of class tensorflow.keras.models.Sequential\n",
        "  # That class represents neural networks, where one layer is processed after another. (This represents almost all neural networks, but look for skip connections and the ResNet if interested in more powerful architectures. They are used in our application, for example the WaveNet: https://www.deepmind.com/blog/wavenet-a-generative-model-for-raw-audio)\n",
        "  # The neural network is empty at this point.\n",
        "  model = Sequential()\n",
        "  # Class tensorflow.keras.models.Sequential has a function \"add\" that adds a layer to the network\n",
        "  # We add the first layer. It is of type Dense, the typical layer in a MLP that is fully connected to the previous layer\n",
        "  # It has two units. Their activation functions are sigmoids.\n",
        "  # Because it is the first layer we have to specify the number of inputs. Four inputs for our two nodes lead to 4x2=8 weights, plus 2 bias weights.\n",
        "  # The name is useful for bigger networks or when we want to copy parts of the network.\n",
        "  model.add(Dense(2, activation='sigmoid', input_shape=(4,), name=\"hidden_layer\"))\n",
        "  # We add another layers with 4 nodes. The model already knows that this layer receives inputs from the two nodes of the previous layer.\n",
        "  # This layer will have 2x4 = 8 weights plus 4 bias weights.\n",
        "  model.add(Dense(4, activation='sigmoid', name=\"output_layer\"))\n",
        "  # We create an object for the optimizer, from the class SGD, and we name it \"sgd\". We give it bigger parameters than the defaul to train faster.\n",
        "  sgd = SGD(learning_rate=0.1, momentum=0.9)\n",
        "  # The \"compile()\" of class tensorflow.keras.models.Sequential actually creates the model and we can start training.\n",
        "  # We specify the loss function to be the mean squared error and the optimizer.\n",
        "  # If we wanted to use an optimizer with its default values, we could simply specify it by name, for example optimizer='Adam'\n",
        "  model.compile(loss='mse', optimizer=sgd)\n",
        "  return model\n",
        "\n",
        "# Input data\n",
        "#I can have more input data by adding [x,x,x,x] at the end\n",
        "X = np.array([[1.0, 0.0, 0.0, 0.0],\n",
        "              [0.0, 1.0, 0.0, 0.0],\n",
        "              [0.0, 0.0, 1.0, 0.0],\n",
        "              [0.0, 0.0, 0.0, 1.0]])\n",
        "# Output data\n",
        "Y = X.copy()\n",
        "\n",
        "print(\"Input\\n\", X)\n",
        "print(\"Output\\n\", Y)\n",
        "\n",
        "#(a)\n",
        "# - Regression\n",
        "# - [0.0, 1.0] -- Sigmoid activation function"
      ],
      "execution_count": 3,
      "outputs": [
        {
          "output_type": "stream",
          "name": "stdout",
          "text": [
            "Input\n",
            " [[1. 0. 0. 0.]\n",
            " [0. 1. 0. 0.]\n",
            " [0. 0. 1. 0.]\n",
            " [0. 0. 0. 1.]]\n",
            "Output\n",
            " [[1. 0. 0. 0.]\n",
            " [0. 1. 0. 0.]\n",
            " [0. 0. 1. 0.]\n",
            " [0. 0. 0. 1.]]\n"
          ]
        }
      ]
    },
    {
      "cell_type": "markdown",
      "metadata": {
        "id": "x5b20_6ArIlz"
      },
      "source": [
        "(b) Complete the code block below to train the model on the data defined above using the model's [`fit` method](https://keras.io/api/models/model_training_apis/#fit-method). Use the specification in the comments to set up the training parameters accordingly."
      ]
    },
    {
      "cell_type": "code",
      "metadata": {
        "id": "XepltgxvrK74",
        "colab": {
          "base_uri": "https://localhost:8080/",
          "height": 386
        },
        "outputId": "aebfc619-4123-4846-96ea-f011db0c180d"
      },
      "source": [
        "# Build the model using the earlier function\n",
        "model = build_model()\n",
        "\n",
        "# Train the model using 1000 iterations through the dataset with weight updates after processing each individual sample:\n",
        "#(b)\n",
        "# vector is low alphabet and metrix is Cap letters\n",
        "#interation is one update of weight. Epochs is how often do I run the model\n",
        "\n",
        "training_info = model.fit(X, Y, epochs=1000, batch_size=1, verbose=0)\n",
        "\n",
        "# Plot the value of the loss function over training\n",
        "plt.plot(training_info.history['loss'])\n",
        "plt.xlabel(\"Epoch\")\n",
        "plt.ylabel(\"Loss\")\n",
        "plt.grid()\n",
        "plt.show()\n",
        "\n",
        "# Print the predicted output values for the training data\n",
        "print(\"Predicted:\", np.around(model.predict(X), decimals=2), sep=\"\\n\")\n"
      ],
      "execution_count": 4,
      "outputs": [
        {
          "output_type": "display_data",
          "data": {
            "text/plain": [
              "<Figure size 432x288 with 1 Axes>"
            ],
            "image/png": "[encoded data removed]"
          },
          "metadata": {
            "needs_background": "light"
          }
        },
        {
          "output_type": "stream",
          "name": "stdout",
          "text": [
            "1/1 [==============================] - 0s 166ms/step\n",
            "Predicted:\n",
            "[[0.9  0.   0.05 0.05]\n",
            " [0.   0.91 0.07 0.07]\n",
            " [0.08 0.06 0.92 0.  ]\n",
            " [0.09 0.06 0.   0.92]]\n"
          ]
        }
      ]
    },
    {
      "cell_type": "markdown",
      "metadata": {
        "id": "ayV_VSD1sIAu"
      },
      "source": [
        "The following code block displays the network configuration, including number of parameters (weights) that were estimated during training. Furthermore it displays the actual weights and biases of the trained model."
      ]
    },
    {
      "cell_type": "code",
      "metadata": {
        "id": "dk83yfrqbfd3",
        "colab": {
          "base_uri": "https://localhost:8080/"
        },
        "outputId": "b7875247-87c5-4e80-a319-96c948d5057a"
      },
      "source": [
        "# Print a summary of the structure of the model\n",
        "model.summary()\n",
        "\n",
        "# Get the weights as a numpy array\n",
        "weights=model.get_weights()\n",
        "\n",
        "# Print the weights for the different layers\n",
        "# odd numbers are biases \n",
        "print()\n",
        "print(\"hidden-to-input:\", weights[0], \"\", sep=\"\\n\")\n",
        "#weight 1 is bias of the first output\n",
        "print(\"hidden-bias:\", weights[1], \"\", sep=\"\\n\")\n",
        "#weight2 is the weight from the previous output\n",
        "print(\"output-to-hidden:\", weights[2], \"\", sep=\"\\n\")\n",
        "#bias of the second layer\n",
        "print(\"output-bias:\", weights[3], \"\", sep=\"\\n\")"
      ],
      "execution_count": 5,
      "outputs": [
        {
          "output_type": "stream",
          "name": "stdout",
          "text": [
            "Model: \"sequential_1\"\n",
            "_________________________________________________________________\n",
            " Layer (type)                Output Shape              Param #   \n",
            "=================================================================\n",
            " hidden_layer (Dense)        (None, 2)                 10        \n",
            "                                                                 \n",
            " output_layer (Dense)        (None, 4)                 12        \n",
            "                                                                 \n",
            "=================================================================\n",
            "Total params: 22\n",
            "Trainable params: 22\n",
            "Non-trainable params: 0\n",
            "_________________________________________________________________\n",
            "\n",
            "hidden-to-input:\n",
            "[[ 4.095022   3.8660212]\n",
            " [-3.352769  -3.411203 ]\n",
            " [-3.4864464  3.4757807]\n",
            " [ 3.2428386 -3.5654728]]\n",
            "\n",
            "hidden-bias:\n",
            "[-0.37336275 -0.28939566]\n",
            "\n",
            "output-to-hidden:\n",
            "[[ 4.7086515 -5.6291575 -5.7548356  5.465237 ]\n",
            " [ 4.6164346 -5.5515137  5.49278   -5.7941384]]\n",
            "\n",
            "output-bias:\n",
            "[-6.914473   2.605479  -2.646178  -2.5879366]\n",
            "\n"
          ]
        }
      ]
    },
    {
      "cell_type": "markdown",
      "metadata": {
        "id": "HPI2e5SnkDbM"
      },
      "source": [
        "(c) Using the sigmoid function defined below, write some code to manually calculate the outputs of the network using the `weights` and `X` as input. **OR** Explain how the weights and biases are used to calculate the networks outputs."
      ]
    },
    {
      "cell_type": "code",
      "metadata": {
        "id": "-1rCOKjtkH5H",
        "colab": {
          "base_uri": "https://localhost:8080/"
        },
        "outputId": "c14d6223-bace-4d21-af59-0bcdc401cfd7"
      },
      "source": [
        "# definition of the signoid activation function\n",
        "def sigmoid(x):\n",
        "  return 1 / (1 + np.exp(-x))\n",
        "  \n",
        "#(c)\n",
        "#For each training sample:\n",
        "for i in range(4):\n",
        "  # Get the input\n",
        "  input = X[i]\n",
        "  # Calculate the hidden layer activations\n",
        "  hidden_activations = sigmoid(np.matmul(input, weights[0]) + weights[1])\n",
        "  # Get the output layer activations\n",
        "  output_activations = sigmoid(np.matmul(hidden_activations, weights[2]) + weights[3])\n",
        "  # Print the input, hidden and output values for this sample\n",
        "  print(input, np.around(hidden_activations, decimals=2), np.around(output_activations, decimals=2), sep=\"\\t\")\n"
      ],
      "execution_count": null,
      "outputs": [
        {
          "output_type": "stream",
          "name": "stdout",
          "text": [
            "[1. 0. 0. 0.]\t[0.03 0.97]\t[0.92 0.09 0.   0.06]\n",
            "[0. 1. 0. 0.]\t[0.98 0.96]\t[0.06 0.89 0.05 0.  ]\n",
            "[0. 0. 1. 0.]\t[0.91 0.02]\t[0.   0.09 0.92 0.05]\n",
            "[0. 0. 0. 1.]\t[0.01 0.04]\t[0.07 0.   0.07 0.91]\n"
          ]
        }
      ]
    },
    {
      "cell_type": "markdown",
      "source": [
        "# (d) What are autoencoders useful for?"
      ],
      "metadata": {
        "id": "_uek-sS6hsM1"
      }
    },
    {
      "cell_type": "code",
      "source": [
        "#(d)\n",
        "#https://en.wikipedia.org/wiki/Autoencoder#Applications"
      ],
      "metadata": {
        "id": "S_W0Ttu1h04c"
      },
      "execution_count": null,
      "outputs": []
    }
  ]
}