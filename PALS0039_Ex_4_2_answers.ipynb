{
  "nbformat": 4,
  "nbformat_minor": 0,
  "metadata": {
    "colab": {
      "provenance": [],
      "include_colab_link": true
    },
    "kernelspec": {
      "name": "python3",
      "display_name": "Python 3"
    }
  },
  "cells": [
    {
      "cell_type": "markdown",
      "metadata": {
        "id": "view-in-github",
        "colab_type": "text"
      },
      "source": [
        "<a href=\"https://colab.research.google.com/github/HanSong19/PALS0039-Introduction-to-Deep-Learning-for-Speech-and-Language-Processing-/blob/main/PALS0039_Ex_4_2_answers.ipynb\" target=\"_parent\"><img src=\"https://colab.research.google.com/assets/colab-badge.svg\" alt=\"Open In Colab\"/></a>"
      ]
    },
    {
      "cell_type": "markdown",
      "metadata": {
        "id": "tykdB_X1ZvbX"
      },
      "source": [
        "[![PALS0039 Logo](https://www.phon.ucl.ac.uk/courses/pals0039/images/pals0039logo.png)](https://www.phon.ucl.ac.uk/courses/pals0039/)\n",
        "\n",
        "#Exercise 4.2 Age Prediction from speech\n",
        "\n",
        "In this exercise we implement a DNN for predicting age of the speaker from speech.\n",
        "\n",
        "The data comes from the [Accents of the British Isles](http://www.thespeechark.com/abi-2-page.html) corpus. Each speaker read the same short passage, and the audio was processed using the [OpenSMILE](https://www.audeering.com/opensmile/) toolkit into fixed-length vectors of 6373 features. We normalise the features across all speakers using z-scores. We add GENDER as an additional input feature. We convert the speaker AGE into a value between 0-1 and build a network with a linear output to predict age. We plot the predictions as a scatter plot, and calculate correlation and mean absolute error."
      ]
    },
    {
      "cell_type": "markdown",
      "metadata": {
        "id": "XV2lCpMOy0Lb"
      },
      "source": [
        "---\n",
        "Set up the environment and load the pre-prepared data from the course website. Run the code."
      ]
    },
    {
      "cell_type": "code",
      "metadata": {
        "id": "rv0rXZ39y41h",
        "colab": {
          "base_uri": "https://localhost:8080/"
        },
        "outputId": "7801a0e8-df93-4737-ad29-51799bac9ccb"
      },
      "source": [
        "# import standard libraries\n",
        "import numpy as np\n",
        "import pandas as pd\n",
        "import matplotlib.pyplot as plt\n",
        "from sklearn.preprocessing import StandardScaler\n",
        "\n",
        "#scaling is very important for Deep learning. Getting the value near 0 is important and scaling is doing this\n",
        "\n",
        "# import keras libraries\n",
        "%tensorflow_version 2.x\n",
        "from tensorflow.keras.models import Sequential\n",
        "from tensorflow.keras.layers import Dense, Dropout\n",
        "\n",
        "# load a CSV file and divide into feats and labels\n",
        "def load_csv(filename, outcolname=\"AGE\", featcolstart=4):\n",
        "  # read CSV file\n",
        "  df = pd.read_csv(filename, sep=',')\n",
        "  # convert GENDER column to codes\n",
        "  gender = pd.Categorical(df['GENDER'])\n",
        "  # append gender code to audio features\n",
        "  inputs = np.append(np.array(df.iloc[:, featcolstart:]), np.reshape(gender.codes, (len(df),1)), axis=1)\n",
        "  # convert age to numpy array\n",
        "  outputs = df[outcolname].to_numpy()\n",
        "  # randomise order\n",
        "  p = np.random.permutation(inputs.shape[0])\n",
        "  return inputs[p], outputs[p]\n",
        "\n",
        "# download train and test data\n",
        "Xtrain, ytrain = load_csv(\"https://www.phon.ucl.ac.uk/courses/pals0039/data/exercise_04/age-train.csv.bz2\");\n",
        "Xtest, ytest = load_csv(\"https://www.phon.ucl.ac.uk/courses/pals0039/data/exercise_04/age-test.csv.bz2\");\n",
        "\n",
        "# Show counts for the datasets\n",
        "print(\"Number of training samples (rows):\", Xtrain.shape[0], len(ytrain), sep=\"\\t\")\n",
        "print(\"Number of test samples (rows)    :\", Xtest.shape[0], len(ytest), sep=\"\\t\")\n",
        "print(\"Number of features (columns)     :\", Xtrain.shape[1], Xtest.shape[1], sep=\"\\t\")\n"
      ],
      "execution_count": null,
      "outputs": [
        {
          "output_type": "stream",
          "name": "stdout",
          "text": [
            "Colab only includes TensorFlow 2.x; %tensorflow_version has no effect.\n",
            "Number of training samples (rows):\t210\t210\n",
            "Number of test samples (rows)    :\t52\t52\n",
            "Number of features (columns)     :\t6374\t6374\n"
          ]
        }
      ]
    },
    {
      "cell_type": "markdown",
      "metadata": {
        "id": "ujMyNesX0if0"
      },
      "source": [
        "---\n",
        "Normalise the features using [`sklearn`'s preprocessing tools](https://scikit-learn.org/stable/modules/classes.html#module-sklearn.preprocessing). Run the code."
      ]
    },
    {
      "cell_type": "code",
      "metadata": {
        "id": "4nMKrRGK0nwc"
      },
      "source": [
        "# Get statistics of all features\n",
        "scaler = StandardScaler().fit(Xtrain)\n",
        "\n",
        "# Normalise the training and test features\n",
        "Xtrain_norm = scaler.transform(Xtrain)\n",
        "Xtest_norm = scaler.transform(Xtest)\n",
        "\n",
        "# Convert ages to a small number\n",
        "# Maximum ages in the data are in the 80s\n",
        "# So outputs should lie well inside the range [0.0, 1.0]\n",
        "# output is not normalized because it is difficult ro read what the normalized value is in terms of the real values. \n",
        "ytrain_norm = ytrain / 100.0\n",
        "ytest_norm = ytest / 100.0"
      ],
      "execution_count": null,
      "outputs": []
    },
    {
      "cell_type": "markdown",
      "metadata": {
        "id": "i9h4Lhok1HP3"
      },
      "source": [
        "---\n",
        "(a) Build a model. Run the code and add comments. Why do we use the `tanh` activation function for the hidden layers? What is the [`Dropout` layer](https://keras.io/api/layers/regularization_layers/dropout/)?"
      ]
    },
    {
      "cell_type": "code",
      "metadata": {
        "id": "O0tZdB1I1LUL",
        "colab": {
          "base_uri": "https://localhost:8080/"
        },
        "outputId": "8c79791b-0be4-406e-c280-719f023b6e7f"
      },
      "source": [
        "def build_model(input_width, output_width=1):\n",
        "  model = Sequential()\n",
        "  model.add(Dense(64, activation='tanh', input_shape=(input_width,)))\n",
        "  #dropoupt is the new thing \n",
        "  #dropout is one option to do regularisation that preents overfitting. Dropout ignore some units during training. \n",
        "  #during the first trining, i drop 50% of training (but not prediction) and the rest 50% of them are trained. IN the next iterating of learning\n",
        "  #another 50% the training nodes are dropped (it is random so it is likely to be different nodes)\n",
        "  model.add(Dropout(0.5))\n",
        "  model.add(Dense(32, activation='tanh'))\n",
        "  #activation = 'tanh' because drop puts excluded one to '0' but in ,activation sigmoid (that looks in between 0-1), '0' means something so here tanh puts in the middle\n",
        "  # tanh is between -1 to 1 and 0 can be in the middle\n",
        "  model.add(Dense(output_width, activation='linear'))\n",
        "  model.compile(loss='mean_squared_error', optimizer='rmsprop', metrics=['mae'])\n",
        "  #mae= mean absolute error but I can still use mse as well\n",
        "  return model\n",
        "\n",
        "#(a)\n",
        "model = build_model(input_width=Xtrain.shape[1])\n",
        "model.summary()"
      ],
      "execution_count": null,
      "outputs": [
        {
          "output_type": "stream",
          "name": "stdout",
          "text": [
            "Model: \"sequential_7\"\n",
            "_________________________________________________________________\n",
            " Layer (type)                Output Shape              Param #   \n",
            "=================================================================\n",
            " dense_21 (Dense)            (None, 64)                408000    \n",
            "                                                                 \n",
            " dropout_6 (Dropout)         (None, 64)                0         \n",
            "                                                                 \n",
            " dense_22 (Dense)            (None, 32)                2080      \n",
            "                                                                 \n",
            " dense_23 (Dense)            (None, 1)                 33        \n",
            "                                                                 \n",
            "=================================================================\n",
            "Total params: 410,113\n",
            "Trainable params: 410,113\n",
            "Non-trainable params: 0\n",
            "_________________________________________________________________\n"
          ]
        }
      ]
    },
    {
      "cell_type": "markdown",
      "metadata": {
        "id": "iorxYg2G1sa2"
      },
      "source": [
        "---\n",
        "(b) Call the `model.fit` method with the correct arguments to train the model with the following specifications: (1) Train for 100 iterations over the dataset; (2) Update the weights during training in batches of 32 samples; (3) Request Keras to randomly select 10% of the training set as the **validation set**."
      ]
    },
    {
      "cell_type": "code",
      "metadata": {
        "id": "Oli7VTJz1v3X",
        "colab": {
          "base_uri": "https://localhost:8080/"
        },
        "outputId": "ddd99d5d-56c1-4b0c-e8fe-719aacac0954"
      },
      "source": [
        "training_info = model.fit(Xtrain_norm, ytrain_norm, epochs=100, batch_size=32, validation_split=0.1)"
      ],
      "execution_count": null,
      "outputs": [
        {
          "output_type": "stream",
          "name": "stdout",
          "text": [
            "Epoch 1/100\n",
            "6/6 [==============================] - 1s 37ms/step - loss: 2.1921 - mae: 1.0992 - val_loss: 1.0185 - val_mae: 0.8540\n",
            "Epoch 2/100\n",
            "6/6 [==============================] - 0s 12ms/step - loss: 0.8079 - mae: 0.7561 - val_loss: 0.6123 - val_mae: 0.5924\n",
            "Epoch 3/100\n",
            "6/6 [==============================] - 1s 174ms/step - loss: 0.6006 - mae: 0.6112 - val_loss: 0.6214 - val_mae: 0.5877\n",
            "Epoch 4/100\n",
            "6/6 [==============================] - 0s 11ms/step - loss: 0.5495 - mae: 0.6063 - val_loss: 0.6453 - val_mae: 0.6455\n",
            "Epoch 5/100\n",
            "6/6 [==============================] - 0s 10ms/step - loss: 0.4855 - mae: 0.5773 - val_loss: 0.5600 - val_mae: 0.6369\n",
            "Epoch 6/100\n",
            "6/6 [==============================] - 0s 10ms/step - loss: 0.4519 - mae: 0.5321 - val_loss: 0.5750 - val_mae: 0.6643\n",
            "Epoch 7/100\n",
            "6/6 [==============================] - 0s 13ms/step - loss: 0.2985 - mae: 0.4428 - val_loss: 0.4087 - val_mae: 0.5190\n",
            "Epoch 8/100\n",
            "6/6 [==============================] - 0s 10ms/step - loss: 0.3378 - mae: 0.4537 - val_loss: 0.3052 - val_mae: 0.4390\n",
            "Epoch 9/100\n",
            "6/6 [==============================] - 0s 10ms/step - loss: 0.2531 - mae: 0.4076 - val_loss: 0.2778 - val_mae: 0.4088\n",
            "Epoch 10/100\n",
            "6/6 [==============================] - 0s 12ms/step - loss: 0.2384 - mae: 0.3841 - val_loss: 0.3342 - val_mae: 0.4556\n",
            "Epoch 11/100\n",
            "6/6 [==============================] - 0s 14ms/step - loss: 0.2078 - mae: 0.3575 - val_loss: 0.3213 - val_mae: 0.4120\n",
            "Epoch 12/100\n",
            "6/6 [==============================] - 0s 10ms/step - loss: 0.2318 - mae: 0.3767 - val_loss: 0.3141 - val_mae: 0.4199\n",
            "Epoch 13/100\n",
            "6/6 [==============================] - 0s 11ms/step - loss: 0.1674 - mae: 0.3220 - val_loss: 0.2157 - val_mae: 0.3417\n",
            "Epoch 14/100\n",
            "6/6 [==============================] - 0s 12ms/step - loss: 0.1695 - mae: 0.3212 - val_loss: 0.2102 - val_mae: 0.3458\n",
            "Epoch 15/100\n",
            "6/6 [==============================] - 0s 11ms/step - loss: 0.1679 - mae: 0.3318 - val_loss: 0.1565 - val_mae: 0.3105\n",
            "Epoch 16/100\n",
            "6/6 [==============================] - 0s 11ms/step - loss: 0.1941 - mae: 0.3442 - val_loss: 0.1308 - val_mae: 0.2898\n",
            "Epoch 17/100\n",
            "6/6 [==============================] - 0s 14ms/step - loss: 0.1710 - mae: 0.3283 - val_loss: 0.1096 - val_mae: 0.2524\n",
            "Epoch 18/100\n",
            "6/6 [==============================] - 0s 10ms/step - loss: 0.1534 - mae: 0.3083 - val_loss: 0.0972 - val_mae: 0.2097\n",
            "Epoch 19/100\n",
            "6/6 [==============================] - 0s 68ms/step - loss: 0.1393 - mae: 0.2949 - val_loss: 0.0805 - val_mae: 0.1817\n",
            "Epoch 20/100\n",
            "6/6 [==============================] - 0s 10ms/step - loss: 0.1142 - mae: 0.2696 - val_loss: 0.1043 - val_mae: 0.2176\n",
            "Epoch 21/100\n",
            "6/6 [==============================] - 0s 13ms/step - loss: 0.1222 - mae: 0.2724 - val_loss: 0.1215 - val_mae: 0.2479\n",
            "Epoch 22/100\n",
            "6/6 [==============================] - 0s 10ms/step - loss: 0.1117 - mae: 0.2603 - val_loss: 0.0708 - val_mae: 0.2066\n",
            "Epoch 23/100\n",
            "6/6 [==============================] - 0s 10ms/step - loss: 0.1214 - mae: 0.2803 - val_loss: 0.0807 - val_mae: 0.1991\n",
            "Epoch 24/100\n",
            "6/6 [==============================] - 0s 12ms/step - loss: 0.1489 - mae: 0.3035 - val_loss: 0.0797 - val_mae: 0.2199\n",
            "Epoch 25/100\n",
            "6/6 [==============================] - 0s 10ms/step - loss: 0.0947 - mae: 0.2424 - val_loss: 0.0489 - val_mae: 0.1450\n",
            "Epoch 26/100\n",
            "6/6 [==============================] - 0s 10ms/step - loss: 0.0985 - mae: 0.2508 - val_loss: 0.0807 - val_mae: 0.2212\n",
            "Epoch 27/100\n",
            "6/6 [==============================] - 0s 20ms/step - loss: 0.1005 - mae: 0.2478 - val_loss: 0.0603 - val_mae: 0.1871\n",
            "Epoch 28/100\n",
            "6/6 [==============================] - 0s 87ms/step - loss: 0.1016 - mae: 0.2403 - val_loss: 0.0653 - val_mae: 0.1973\n",
            "Epoch 29/100\n",
            "6/6 [==============================] - 0s 22ms/step - loss: 0.0779 - mae: 0.2211 - val_loss: 0.0522 - val_mae: 0.1892\n",
            "Epoch 30/100\n",
            "6/6 [==============================] - 0s 34ms/step - loss: 0.0949 - mae: 0.2450 - val_loss: 0.0495 - val_mae: 0.1847\n",
            "Epoch 31/100\n",
            "6/6 [==============================] - 0s 31ms/step - loss: 0.0859 - mae: 0.2410 - val_loss: 0.0634 - val_mae: 0.2000\n",
            "Epoch 32/100\n",
            "6/6 [==============================] - 0s 24ms/step - loss: 0.0966 - mae: 0.2443 - val_loss: 0.0528 - val_mae: 0.1913\n",
            "Epoch 33/100\n",
            "6/6 [==============================] - 0s 28ms/step - loss: 0.0979 - mae: 0.2434 - val_loss: 0.0556 - val_mae: 0.2036\n",
            "Epoch 34/100\n",
            "6/6 [==============================] - 1s 161ms/step - loss: 0.1003 - mae: 0.2450 - val_loss: 0.0529 - val_mae: 0.1974\n",
            "Epoch 35/100\n",
            "6/6 [==============================] - 0s 11ms/step - loss: 0.1026 - mae: 0.2523 - val_loss: 0.0543 - val_mae: 0.1943\n",
            "Epoch 36/100\n",
            "6/6 [==============================] - 0s 14ms/step - loss: 0.0964 - mae: 0.2489 - val_loss: 0.0643 - val_mae: 0.2062\n",
            "Epoch 37/100\n",
            "6/6 [==============================] - 0s 11ms/step - loss: 0.0859 - mae: 0.2370 - val_loss: 0.0840 - val_mae: 0.2542\n",
            "Epoch 38/100\n",
            "6/6 [==============================] - 0s 11ms/step - loss: 0.1019 - mae: 0.2503 - val_loss: 0.0993 - val_mae: 0.2607\n",
            "Epoch 39/100\n",
            "6/6 [==============================] - 0s 10ms/step - loss: 0.0886 - mae: 0.2361 - val_loss: 0.1031 - val_mae: 0.2445\n",
            "Epoch 40/100\n",
            "6/6 [==============================] - 0s 14ms/step - loss: 0.0778 - mae: 0.2250 - val_loss: 0.0751 - val_mae: 0.2162\n",
            "Epoch 41/100\n",
            "6/6 [==============================] - 0s 10ms/step - loss: 0.0785 - mae: 0.2320 - val_loss: 0.0957 - val_mae: 0.2440\n",
            "Epoch 42/100\n",
            "6/6 [==============================] - 0s 10ms/step - loss: 0.0726 - mae: 0.2132 - val_loss: 0.0679 - val_mae: 0.1961\n",
            "Epoch 43/100\n",
            "6/6 [==============================] - 0s 13ms/step - loss: 0.0790 - mae: 0.2211 - val_loss: 0.0792 - val_mae: 0.2131\n",
            "Epoch 44/100\n",
            "6/6 [==============================] - 0s 11ms/step - loss: 0.0720 - mae: 0.2112 - val_loss: 0.0676 - val_mae: 0.2124\n",
            "Epoch 45/100\n",
            "6/6 [==============================] - 0s 10ms/step - loss: 0.0874 - mae: 0.2281 - val_loss: 0.0824 - val_mae: 0.2256\n",
            "Epoch 46/100\n",
            "6/6 [==============================] - 0s 16ms/step - loss: 0.0805 - mae: 0.2280 - val_loss: 0.0574 - val_mae: 0.1849\n",
            "Epoch 47/100\n",
            "6/6 [==============================] - 0s 11ms/step - loss: 0.0635 - mae: 0.2072 - val_loss: 0.0646 - val_mae: 0.2107\n",
            "Epoch 48/100\n",
            "6/6 [==============================] - 0s 13ms/step - loss: 0.0837 - mae: 0.2372 - val_loss: 0.0614 - val_mae: 0.2111\n",
            "Epoch 49/100\n",
            "6/6 [==============================] - 0s 11ms/step - loss: 0.0653 - mae: 0.2075 - val_loss: 0.0548 - val_mae: 0.2001\n",
            "Epoch 50/100\n",
            "6/6 [==============================] - 1s 158ms/step - loss: 0.0657 - mae: 0.2038 - val_loss: 0.0518 - val_mae: 0.1854\n",
            "Epoch 51/100\n",
            "6/6 [==============================] - 0s 11ms/step - loss: 0.0732 - mae: 0.2075 - val_loss: 0.0566 - val_mae: 0.1857\n",
            "Epoch 52/100\n",
            "6/6 [==============================] - 0s 11ms/step - loss: 0.0654 - mae: 0.2056 - val_loss: 0.0595 - val_mae: 0.1859\n",
            "Epoch 53/100\n",
            "6/6 [==============================] - 0s 66ms/step - loss: 0.0724 - mae: 0.2194 - val_loss: 0.0630 - val_mae: 0.1913\n",
            "Epoch 54/100\n",
            "6/6 [==============================] - 0s 10ms/step - loss: 0.0625 - mae: 0.2027 - val_loss: 0.0601 - val_mae: 0.1941\n",
            "Epoch 55/100\n",
            "6/6 [==============================] - 0s 10ms/step - loss: 0.0752 - mae: 0.2140 - val_loss: 0.0510 - val_mae: 0.1746\n",
            "Epoch 56/100\n",
            "6/6 [==============================] - 0s 11ms/step - loss: 0.0561 - mae: 0.1955 - val_loss: 0.0410 - val_mae: 0.1558\n",
            "Epoch 57/100\n",
            "6/6 [==============================] - 0s 11ms/step - loss: 0.0591 - mae: 0.1950 - val_loss: 0.0500 - val_mae: 0.1782\n",
            "Epoch 58/100\n",
            "6/6 [==============================] - 0s 10ms/step - loss: 0.0537 - mae: 0.1865 - val_loss: 0.0404 - val_mae: 0.1524\n",
            "Epoch 59/100\n",
            "6/6 [==============================] - 0s 12ms/step - loss: 0.0562 - mae: 0.1971 - val_loss: 0.0442 - val_mae: 0.1733\n",
            "Epoch 60/100\n",
            "6/6 [==============================] - 0s 11ms/step - loss: 0.0668 - mae: 0.2089 - val_loss: 0.0543 - val_mae: 0.1922\n",
            "Epoch 61/100\n",
            "6/6 [==============================] - 0s 11ms/step - loss: 0.0572 - mae: 0.1910 - val_loss: 0.0468 - val_mae: 0.1773\n",
            "Epoch 62/100\n",
            "6/6 [==============================] - 0s 11ms/step - loss: 0.0577 - mae: 0.1900 - val_loss: 0.0508 - val_mae: 0.1804\n",
            "Epoch 63/100\n",
            "6/6 [==============================] - 0s 10ms/step - loss: 0.0604 - mae: 0.1963 - val_loss: 0.0508 - val_mae: 0.1798\n",
            "Epoch 64/100\n",
            "6/6 [==============================] - 0s 12ms/step - loss: 0.0499 - mae: 0.1714 - val_loss: 0.0517 - val_mae: 0.1790\n",
            "Epoch 65/100\n",
            "6/6 [==============================] - 0s 10ms/step - loss: 0.0522 - mae: 0.1860 - val_loss: 0.0504 - val_mae: 0.1765\n",
            "Epoch 66/100\n",
            "6/6 [==============================] - 0s 10ms/step - loss: 0.0563 - mae: 0.1872 - val_loss: 0.0525 - val_mae: 0.1870\n",
            "Epoch 67/100\n",
            "6/6 [==============================] - 0s 11ms/step - loss: 0.0605 - mae: 0.1969 - val_loss: 0.0464 - val_mae: 0.1780\n",
            "Epoch 68/100\n",
            "6/6 [==============================] - 0s 12ms/step - loss: 0.0561 - mae: 0.1923 - val_loss: 0.0402 - val_mae: 0.1600\n",
            "Epoch 69/100\n",
            "6/6 [==============================] - 0s 11ms/step - loss: 0.0402 - mae: 0.1569 - val_loss: 0.0379 - val_mae: 0.1557\n",
            "Epoch 70/100\n",
            "6/6 [==============================] - 0s 10ms/step - loss: 0.0483 - mae: 0.1754 - val_loss: 0.0378 - val_mae: 0.1514\n",
            "Epoch 71/100\n",
            "6/6 [==============================] - 0s 10ms/step - loss: 0.0474 - mae: 0.1693 - val_loss: 0.0353 - val_mae: 0.1506\n",
            "Epoch 72/100\n",
            "6/6 [==============================] - 0s 13ms/step - loss: 0.0509 - mae: 0.1758 - val_loss: 0.0431 - val_mae: 0.1683\n",
            "Epoch 73/100\n",
            "6/6 [==============================] - 0s 11ms/step - loss: 0.0474 - mae: 0.1745 - val_loss: 0.0319 - val_mae: 0.1495\n",
            "Epoch 74/100\n",
            "6/6 [==============================] - 0s 11ms/step - loss: 0.0477 - mae: 0.1746 - val_loss: 0.0384 - val_mae: 0.1461\n",
            "Epoch 75/100\n",
            "6/6 [==============================] - 0s 12ms/step - loss: 0.0468 - mae: 0.1795 - val_loss: 0.0398 - val_mae: 0.1559\n",
            "Epoch 76/100\n",
            "6/6 [==============================] - 0s 10ms/step - loss: 0.0415 - mae: 0.1576 - val_loss: 0.0358 - val_mae: 0.1537\n",
            "Epoch 77/100\n",
            "6/6 [==============================] - 0s 11ms/step - loss: 0.0396 - mae: 0.1571 - val_loss: 0.0342 - val_mae: 0.1453\n",
            "Epoch 78/100\n",
            "6/6 [==============================] - 0s 10ms/step - loss: 0.0391 - mae: 0.1600 - val_loss: 0.0391 - val_mae: 0.1562\n",
            "Epoch 79/100\n",
            "6/6 [==============================] - 0s 11ms/step - loss: 0.0569 - mae: 0.1982 - val_loss: 0.0468 - val_mae: 0.1687\n",
            "Epoch 80/100\n",
            "6/6 [==============================] - 0s 10ms/step - loss: 0.0408 - mae: 0.1545 - val_loss: 0.0439 - val_mae: 0.1615\n",
            "Epoch 81/100\n",
            "6/6 [==============================] - 0s 10ms/step - loss: 0.0463 - mae: 0.1724 - val_loss: 0.0526 - val_mae: 0.1756\n",
            "Epoch 82/100\n",
            "6/6 [==============================] - 0s 11ms/step - loss: 0.0351 - mae: 0.1485 - val_loss: 0.0433 - val_mae: 0.1655\n",
            "Epoch 83/100\n",
            "6/6 [==============================] - 0s 10ms/step - loss: 0.0495 - mae: 0.1801 - val_loss: 0.0446 - val_mae: 0.1733\n",
            "Epoch 84/100\n",
            "6/6 [==============================] - 0s 11ms/step - loss: 0.0440 - mae: 0.1689 - val_loss: 0.0479 - val_mae: 0.1766\n",
            "Epoch 85/100\n",
            "6/6 [==============================] - 0s 11ms/step - loss: 0.0396 - mae: 0.1618 - val_loss: 0.0517 - val_mae: 0.1841\n",
            "Epoch 86/100\n",
            "6/6 [==============================] - 0s 10ms/step - loss: 0.0399 - mae: 0.1612 - val_loss: 0.0486 - val_mae: 0.1844\n",
            "Epoch 87/100\n",
            "6/6 [==============================] - 0s 11ms/step - loss: 0.0396 - mae: 0.1572 - val_loss: 0.0514 - val_mae: 0.1824\n",
            "Epoch 88/100\n",
            "6/6 [==============================] - 0s 10ms/step - loss: 0.0415 - mae: 0.1618 - val_loss: 0.0450 - val_mae: 0.1696\n",
            "Epoch 89/100\n",
            "6/6 [==============================] - 0s 13ms/step - loss: 0.0318 - mae: 0.1454 - val_loss: 0.0360 - val_mae: 0.1535\n",
            "Epoch 90/100\n",
            "6/6 [==============================] - 0s 10ms/step - loss: 0.0417 - mae: 0.1624 - val_loss: 0.0365 - val_mae: 0.1439\n",
            "Epoch 91/100\n",
            "6/6 [==============================] - 0s 12ms/step - loss: 0.0368 - mae: 0.1553 - val_loss: 0.0367 - val_mae: 0.1606\n",
            "Epoch 92/100\n",
            "6/6 [==============================] - 0s 11ms/step - loss: 0.0339 - mae: 0.1496 - val_loss: 0.0375 - val_mae: 0.1519\n",
            "Epoch 93/100\n",
            "6/6 [==============================] - 0s 16ms/step - loss: 0.0413 - mae: 0.1643 - val_loss: 0.0338 - val_mae: 0.1471\n",
            "Epoch 94/100\n",
            "6/6 [==============================] - 0s 12ms/step - loss: 0.0325 - mae: 0.1415 - val_loss: 0.0337 - val_mae: 0.1485\n",
            "Epoch 95/100\n",
            "6/6 [==============================] - 0s 56ms/step - loss: 0.0347 - mae: 0.1458 - val_loss: 0.0316 - val_mae: 0.1388\n",
            "Epoch 96/100\n",
            "6/6 [==============================] - 0s 11ms/step - loss: 0.0339 - mae: 0.1415 - val_loss: 0.0311 - val_mae: 0.1372\n",
            "Epoch 97/100\n",
            "6/6 [==============================] - 0s 10ms/step - loss: 0.0344 - mae: 0.1509 - val_loss: 0.0300 - val_mae: 0.1298\n",
            "Epoch 98/100\n",
            "6/6 [==============================] - 0s 10ms/step - loss: 0.0337 - mae: 0.1441 - val_loss: 0.0316 - val_mae: 0.1382\n",
            "Epoch 99/100\n",
            "6/6 [==============================] - 0s 10ms/step - loss: 0.0342 - mae: 0.1518 - val_loss: 0.0311 - val_mae: 0.1421\n",
            "Epoch 100/100\n",
            "6/6 [==============================] - 0s 10ms/step - loss: 0.0304 - mae: 0.1381 - val_loss: 0.0355 - val_mae: 0.1443\n"
          ]
        }
      ]
    },
    {
      "cell_type": "code",
      "source": [
        "def plot_training_history(training_info):\n",
        "  # Plot the training process:\n",
        "  fig, axs = plt.subplots(1, 2, figsize=(16, 5))\n",
        "  axs[0].plot(training_info.history['loss'], label=\"training set\")\n",
        "  axs[0].plot(training_info.history['val_loss'], label=\"validation set\")\n",
        "  axs[0].set_xlabel(\"Epoch\")\n",
        "  axs[0].set_ylabel(\"Loss\")\n",
        "  axs[0].grid(True)\n",
        "  axs[0].legend()\n",
        "  try:\n",
        "    axs[1].plot(training_info.history['mae'], label=\"training set\")\n",
        "    axs[1].plot(training_info.history['val_mae'], label=\"validation set\")\n",
        "    axs[1].set_xlabel(\"Epoch\")\n",
        "    axs[1].set_ylabel(\"Mean Absolute Error\")\n",
        "    axs[1].grid(True)\n",
        "    axs[1].legend()\n",
        "  except:\n",
        "    pass\n",
        "  plt.show()\n",
        "\n",
        "plot_training_history(training_info)"
      ],
      "metadata": {
        "colab": {
          "base_uri": "https://localhost:8080/",
          "height": 334
        },
        "id": "40yLCTPwzuk2",
        "outputId": "6cbad7ee-bb43-4474-8953-05d02d2051a1"
      },
      "execution_count": null,
      "outputs": [
        {
          "output_type": "display_data",
          "data": {
            "text/plain": [
              "<Figure size 1152x360 with 2 Axes>"
            ],
            "image/png": "[encoded data removed]"
          },
          "metadata": {
            "needs_background": "light"
          }
        }
      ]
    },
    {
      "cell_type": "markdown",
      "source": [
        "(c) Does the process exhibit overfitting or underfitting? Is the performance of the classifier good? Is 100 epochs a reasonable choice? Should the number of epochs be increased or decreased? How could it be that the training error is larger than the validation error?"
      ],
      "metadata": {
        "id": "B9QKGoEK1UxI"
      }
    },
    {
      "cell_type": "code",
      "source": [
        "#(c)\n",
        "# - Neither underfitting nor overfitting\n",
        "# - The MAE * 100.0 indicates a mean error in years of ~ 15. Compare RMSE to SD of outputs - is it better than guessing the mean for everybody?\n",
        "# - Looks like number of epochs could be left as-is or increased\n",
        "# - The validation error could be lower because training error is calculated with dropout.\n",
        "\n",
        "print(np.std(ytrain))"
      ],
      "metadata": {
        "id": "sRDEwzDJ1-jG",
        "colab": {
          "base_uri": "https://localhost:8080/"
        },
        "outputId": "fe1750e1-c20f-4ef1-d3c3-ad2983c83d26"
      },
      "execution_count": null,
      "outputs": [
        {
          "output_type": "stream",
          "name": "stdout",
          "text": [
            "18.055957365143563\n"
          ]
        }
      ]
    },
    {
      "cell_type": "markdown",
      "source": [
        "(d) Estimate the generalisation performance of the two models on the test set (use the [model.evaluate method](https://keras.io/api/models/model_training_apis/#evaluate-method). How does the test accuracy compare to those on the validation set?"
      ],
      "metadata": {
        "id": "0XX14VjL3FgP"
      }
    },
    {
      "cell_type": "code",
      "metadata": {
        "id": "fHFtRufW2LM8",
        "colab": {
          "base_uri": "https://localhost:8080/"
        },
        "outputId": "d3f2cd45-1045-4545-e407-3f3520ac6b31"
      },
      "source": [
        "#(d)\n",
        "test_loss, test_mae = model.evaluate(Xtest_norm, ytest_norm, verbose=0)\n",
        "print(\"Test loss:\", test_loss)\n",
        "print(\"Test Mean Absolute Error (years):\", test_mae * 100.0)"
      ],
      "execution_count": null,
      "outputs": [
        {
          "output_type": "stream",
          "name": "stdout",
          "text": [
            "Test loss: 0.026991846039891243\n",
            "Test Mean Absolute Error (years): 12.954181432723999\n"
          ]
        }
      ]
    },
    {
      "cell_type": "markdown",
      "metadata": {
        "id": "F0ZXTM6_2cH9"
      },
      "source": [
        "---\n",
        "Plot predictions vs. actual age, run the code."
      ]
    },
    {
      "cell_type": "code",
      "metadata": {
        "id": "uTFiBmOT2n1-",
        "colab": {
          "base_uri": "https://localhost:8080/",
          "height": 312
        },
        "outputId": "787d2d28-91c7-44d1-8a1e-ffb2898f72aa"
      },
      "source": [
        "# get predictions of model\n",
        "ypred_norm = model.predict(Xtest_norm)\n",
        "\n",
        "# convert back to years\n",
        "ypred = ypred_norm.flatten() * 100.0\n",
        "\n",
        "# calculate some statistics\n",
        "rmse = np.sqrt(np.mean((ytest - ypred) * (ytest - ypred)))\n",
        "mae = np.mean(np.abs(ytest - ypred))\n",
        "corr = np.corrcoef(ytest, ypred);\n",
        "\n",
        "# plot male and female in different colours\n",
        "colours = ['red','blue']\n",
        "cols = list(colours[int(i)] for i in Xtest[:,Xtest.shape[1] - 1])\n",
        "# plot a scatter plot\n",
        "plt.scatter(x=ytest, y=ypred, c=cols, s=20, alpha=0.5);\n",
        "# calculate a line of best fit\n",
        "poly = np.polyfit(ytest, ypred, 1)\n",
        "x = np.array((np.min(ytest), np.max(ytest)))\n",
        "y = poly[1] + poly[0] * x\n",
        "plt.plot(x,y,':g')\n",
        "plt.xlabel(\"Actual Age (yr)\");\n",
        "plt.ylabel(\"Predicted Age (yr)\");\n",
        "plt.grid()\n",
        "plt.title(\"RMSE=%.3f MAE=%.3f r=%.3f\" % (rmse, mae, corr[0, 1]));\n",
        "plt.show()\n"
      ],
      "execution_count": null,
      "outputs": [
        {
          "output_type": "stream",
          "name": "stdout",
          "text": [
            "2/2 [==============================] - 0s 7ms/step\n"
          ]
        },
        {
          "output_type": "display_data",
          "data": {
            "text/plain": [
              "<Figure size 432x288 with 1 Axes>"
            ],
            "image/png": "[encoded data removed]"
          },
          "metadata": {
            "needs_background": "light"
          }
        }
      ]
    },
    {
      "cell_type": "markdown",
      "metadata": {
        "id": "QxVrl_vtio3f"
      },
      "source": [
        "---\n",
        "(e) **Optional**: Experiment with the network to try and improve performance. Some ideas:\n",
        "\n",
        "- Remove the feature normalisation step - is it useful?\n",
        "- Change the structure of the network or training regime (advanced) Select a subset of the 6373 features depending on whether the feature has a useful correlation with speaker AGE. Remove features from the training and test sets which do not correlate with age to any useful degree.\n",
        "- What is the benefit of feature selection here, does it improve the accuracy of the model?\n"
      ]
    }
  ]
}