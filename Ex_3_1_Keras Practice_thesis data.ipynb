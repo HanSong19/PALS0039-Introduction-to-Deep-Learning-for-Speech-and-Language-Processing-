{
  "nbformat": 4,
  "nbformat_minor": 0,
  "metadata": {
    "colab": {
      "provenance": [],
      "include_colab_link": true
    },
    "kernelspec": {
      "name": "python3",
      "display_name": "Python 3"
    }
  },
  "cells": [
    {
      "cell_type": "markdown",
      "metadata": {
        "id": "view-in-github",
        "colab_type": "text"
      },
      "source": [
        "<a href=\"https://colab.research.google.com/github/HanSong19/PALS0039-Introduction-to-Deep-Learning-for-Speech-and-Language-Processing-/blob/main/Ex_3_1_Keras%20Practice_thesis%20data.ipynb\" target=\"_parent\"><img src=\"https://colab.research.google.com/assets/colab-badge.svg\" alt=\"Open In Colab\"/></a>"
      ]
    },
    {
      "cell_type": "markdown",
      "metadata": {
        "id": "cIFXp68GRrpz"
      },
      "source": [
        "[![PALS0039 Logo](https://www.phon.ucl.ac.uk/courses/pals0039/images/pals0039logo.png)](https://www.phon.ucl.ac.uk/courses/pals0039/)\n",
        "\n",
        "#Exercise 3.1 Keras practice\n",
        "\n",
        "In this exercise we use Keras to build and train a small 4-2-4 [autoencoder](https://en.wikipedia.org/wiki/Autoencoder)."
      ]
    },
    {
      "cell_type": "markdown",
      "metadata": {
        "id": "vJSnFLaaR0BS"
      },
      "source": [
        "(a) The following code block constructs a simple network with 4 inputs, one hidden layer (with 2 nodes), and 4 outputs. Run the code and add comments to explain what each line does. Is this a regression or classification model? What are the ranges of output values the model is capable of producing?"
      ]
    },
    {
      "cell_type": "code",
      "source": [
        "import numpy as np\n",
        "import matplotlib.pyplot as plt\n",
        "%matplotlib inline\n",
        "from tensorflow.keras.models import Sequential, Model                           ## sequential is a multi-layer neutral network\n",
        "from tensorflow.keras.layers import Dense\n",
        "from tensorflow.keras.optimizers import SGD\n",
        "\n",
        "\n",
        "model = Sequential()                                                            ## prepare a model (model is empty at this point)\n",
        "\n",
        "model.add(Dense(2, activation='sigmoid', input_shape=(2,), name=\"hidden_layer\"))# model.add: adding layer to the model\n",
        "                                                                                # (no need to \"add\" the input layer because I only need input form as in input_shape)\n",
        "                                                                                # Dense fully connects the current layer to all previous input including weights\n",
        "                                                                                # the first parameter '2' shows the number of perceptrons (units). The number can change\n",
        "                                                                                # input_shape: is only needed in the first layer and it stores weightsn (from the second layer, it is automatic)\n",
        "                                                                                #              it is a single vector that has 4 features (inputs)\n",
        "                                                                                # if needed, more hidden_layers can be added\n",
        "\n",
        "model.add(Dense(6, activation='sigmoid', name=\"output_layer\"))                  # the output layer has 4 features (perceptrons)\n",
        "\n",
        "sgd = SGD(learning_rate=0.1, momentum=0.9)                                      # optimiser is stochaic gradient descent, learning rate of 0.1 is fast\n",
        "                                                                                # momentum takes the precise stop into account\n",
        "model.compile(loss='mse', optimizer=sgd)                                        # model.compile: finish/conceal the model and the model is ready to run\n",
        "                                                                                ## the first node has 10 parameters (4 input features) x (2 outputs) + 2 biases\n",
        "                                                                                ## the second node has 12 parameters (2 input features) x (4 outputs) + 4 biases\n",
        "\n",
        "model.summary()\n",
        "\n",
        "'''\n",
        "the model looks like this\n",
        "\n",
        "input hidden output\n",
        "x.             x\n",
        "x.      x.     x\n",
        "x.      x.     x\n",
        "x              x\n",
        "\n",
        "This model reduces the dimension. 4 input to 2 in the hidden layer. why? \n",
        "maybe 4 features are too many and see if we can reduce dimensions.\n",
        "auto encoder is often used to reduce the #of features automatically.\n",
        "\n",
        "'''"
      ],
      "metadata": {
        "colab": {
          "base_uri": "https://localhost:8080/",
          "height": 296
        },
        "id": "xiSCJlqz7Lcl",
        "outputId": "2b69fbb9-969f-4be8-ab43-c4c3a3984b00"
      },
      "execution_count": 2,
      "outputs": [
        {
          "output_type": "stream",
          "name": "stdout",
          "text": [
            "Model: \"sequential_1\"\n",
            "_________________________________________________________________\n",
            " Layer (type)                Output Shape              Param #   \n",
            "=================================================================\n",
            " hidden_layer (Dense)        (None, 2)                 6         \n",
            "                                                                 \n",
            " output_layer (Dense)        (None, 6)                 18        \n",
            "                                                                 \n",
            "=================================================================\n",
            "Total params: 24\n",
            "Trainable params: 24\n",
            "Non-trainable params: 0\n",
            "_________________________________________________________________\n"
          ]
        },
        {
          "output_type": "execute_result",
          "data": {
            "text/plain": [
              "'\\nthe model looks like this\\n\\ninput hidden output\\nx.             x\\nx.      x.     x\\nx.      x.     x\\nx              x\\n\\nThis model reduces the dimension. 4 input to 2 in the hidden layer. why? \\nmaybe 4 features are too many and see if we can reduce dimensions.\\nauto encoder is often used to reduce the #of features automatically.\\n\\n'"
            ],
            "application/vnd.google.colaboratory.intrinsic+json": {
              "type": "string"
            }
          },
          "metadata": {},
          "execution_count": 2
        }
      ]
    },
    {
      "cell_type": "code",
      "metadata": {
        "id": "nBwByTZaRq7m",
        "colab": {
          "base_uri": "https://localhost:8080/"
        },
        "outputId": "64e22dc6-c4af-4e4e-d895-531060bb57ce"
      },
      "source": [
        "# Import libraries\n",
        "import numpy as np\n",
        "import matplotlib.pyplot as plt\n",
        "%matplotlib inline\n",
        "from tensorflow.keras.models import Sequential, Model                           \n",
        "                                                                                ## if tensorflow is only imported, I need to use it as a=tensor.flow.keras.models.Sequential ()\n",
        "from tensorflow.keras.layers import Dense                                       ## However, when I import Sequential from tensorflow.keras.models, then I can just call it a=Sequential()\n",
        "from tensorflow.keras.optimizers import SGD\n",
        "\n",
        "# Instructions to build the Keras model\n",
        "def build_model():\n",
        "\n",
        "  model = Sequential()\n",
        "  \n",
        "  model.add(Dense(2, activation='softmax', input_shape=(2,), name=\"hidden_layer\"))\n",
        "  \n",
        "  model.add(Dense(2, activation='softmax', name=\"output_layer\"))\n",
        "  \n",
        "  sgd = SGD(learning_rate=0.1, momentum=0.9)\n",
        " \n",
        "  model.compile(loss='mse', optimizer=sgd)\n",
        "  return model\n",
        "\n",
        "# Input data\n",
        "\n",
        "Y = np.array([[548.0,0.0],\n",
        "              [290.0,0.0],\n",
        "              [196.0,5.0],\n",
        "              [35.0,41.0],\n",
        "              [173.0,13.0],\n",
        "              [42.0,45.0]])\n",
        "\n",
        "X = np.array([[24.0,0.0],\n",
        "              [12.0,0.0],\n",
        "              [8.0,0.0],\n",
        "              [0.0,4.0],\n",
        "              [8.0,0.0],\n",
        "              [0.0,4.0]])\n",
        "\n",
        "print(\"Input\\n\", X)\n",
        "print(\"Output\\n\", Y)\n",
        "\n",
        "#(a)\n",
        "# - Regression\n",
        "# - [0.0, 1.0] -- Sigmoid activation function"
      ],
      "execution_count": 4,
      "outputs": [
        {
          "output_type": "stream",
          "name": "stdout",
          "text": [
            "Input\n",
            " [[24.  0.]\n",
            " [12.  0.]\n",
            " [ 8.  0.]\n",
            " [ 0.  4.]\n",
            " [ 8.  0.]\n",
            " [ 0.  4.]]\n",
            "Output\n",
            " [[548.   0.]\n",
            " [290.   0.]\n",
            " [196.   5.]\n",
            " [ 35.  41.]\n",
            " [173.  13.]\n",
            " [ 42.  45.]]\n"
          ]
        }
      ]
    },
    {
      "cell_type": "code",
      "source": [
        "print(X.shape)"
      ],
      "metadata": {
        "id": "AmwJPnoWVhAW",
        "outputId": "491ddf47-f7d9-4129-fbe6-3cb244d6ebf4",
        "colab": {
          "base_uri": "https://localhost:8080/"
        }
      },
      "execution_count": null,
      "outputs": [
        {
          "output_type": "stream",
          "name": "stdout",
          "text": [
            "(6, 2)\n"
          ]
        }
      ]
    },
    {
      "cell_type": "code",
      "source": [
        "'''\n",
        "import pandas as pd\n",
        "X = pd.read_csv(\"/content/ba_freq_neut_input.csv\", index_col=False, header=None)\n",
        "X = X.iloc[:, [1]]\n",
        "print(X)\n",
        "Y = pd.read_csv(\"/content/ba_freq_neut_output.csv\", header=None)\n",
        "Y = Y.iloc[:, [1]]\n",
        "Y\n",
        "'''"
      ],
      "metadata": {
        "colab": {
          "base_uri": "https://localhost:8080/",
          "height": 53
        },
        "id": "UsxlWfXVF-An",
        "outputId": "885508c8-9203-45bf-9518-8b507385a9a7"
      },
      "execution_count": null,
      "outputs": [
        {
          "output_type": "execute_result",
          "data": {
            "text/plain": [
              "'\\nimport pandas as pd\\nX = pd.read_csv(\"/content/ba_freq_neut_input.csv\", index_col=False, header=None)\\nX = X.iloc[:, [1]]\\nprint(X)\\nY = pd.read_csv(\"/content/ba_freq_neut_output.csv\", header=None)\\nY = Y.iloc[:, [1]]\\nY\\n'"
            ],
            "application/vnd.google.colaboratory.intrinsic+json": {
              "type": "string"
            }
          },
          "metadata": {},
          "execution_count": 84
        }
      ]
    },
    {
      "cell_type": "markdown",
      "source": [],
      "metadata": {
        "id": "1iBcaCNHL37k"
      }
    },
    {
      "cell_type": "markdown",
      "metadata": {
        "id": "x5b20_6ArIlz"
      },
      "source": [
        "(b) Complete the code block below to train the model on the data defined above using the model's [`fit` method](https://keras.io/api/models/model_training_apis/#fit-method). Use the specification in the comments to set up the training parameters accordingly."
      ]
    },
    {
      "cell_type": "code",
      "metadata": {
        "id": "XepltgxvrK74",
        "colab": {
          "base_uri": "https://localhost:8080/",
          "height": 571
        },
        "outputId": "ce11fb6f-5586-4fb6-a1cc-f2d868a08bab"
      },
      "source": [
        "# Build the model using the earlier function\n",
        "# Now my model is created (4 input, 2 hidden, 4 output as designed in the previous cell)\n",
        "model = build_model()\n",
        "\n",
        "# Train the model using 1000 iterations through the dataset with weight updates after processing each individual sample:\n",
        "# verbos: shows the process, verbose = 0: shows nothing, verbose = 1 shows === process, verbose = 2 shows 1/1000\n",
        "#(b) train the model and show the history of loss\n",
        "training = model.fit(X,Y, epochs=100, batch_size=1, verbose=0)\n",
        "\n",
        "# Plot the value of the loss function over training\n",
        "# .history['loss'] shows the training records of 'lose'. I can also search the record of ['accuracy'], ['val_accuacy'] etc.\n",
        "plt.plot(training.history['loss'])\n",
        "plt.xlabel('Epoch')\n",
        "plt.ylabel('Loss')\n",
        "plt.show()\n",
        "\n",
        "# Print the predicted output values for the training data\n",
        "# predit the input data (X)\n",
        "# np.around is used to round floating-point datatypes\n",
        "prediction = model.predict(X)\n",
        "print(np.around(prediction, decimals=2), sep=\"\\n\")\n"
      ],
      "execution_count": 5,
      "outputs": [
        {
          "output_type": "display_data",
          "data": {
            "text/plain": [
              "<Figure size 640x480 with 1 Axes>"
            ],
            "image/png": "[encoded data removed]"
          },
          "metadata": {}
        },
        {
          "output_type": "stream",
          "name": "stdout",
          "text": [
            "1/1 [==============================] - 0s 397ms/step\n",
            "[[1. 0.]\n",
            " [1. 0.]\n",
            " [1. 0.]\n",
            " [1. 0.]\n",
            " [1. 0.]\n",
            " [1. 0.]]\n"
          ]
        }
      ]
    },
    {
      "cell_type": "markdown",
      "metadata": {
        "id": "ayV_VSD1sIAu"
      },
      "source": [
        "The following code block displays the network configuration, including number of parameters (weights) that were estimated during training. Furthermore it displays the actual weights and biases of the trained model."
      ]
    },
    {
      "cell_type": "code",
      "metadata": {
        "id": "dk83yfrqbfd3",
        "colab": {
          "base_uri": "https://localhost:8080/"
        },
        "outputId": "970cedd3-7109-4e02-bf88-84270f028699"
      },
      "source": [
        "# Print a summary of the structure of the model\n",
        "model.summary()\n",
        "\n",
        "# Get the weights as a numpy array\n",
        "weights=model.get_weights()\n",
        "\n",
        "# Print the weights for the different layers\n",
        "print()\n",
        "print(\"hidden-to-input:\", weights[0], \"\", sep=\"\\n\")\n",
        "print(\"hidden-bias:\", weights[1], \"\", sep=\"\\n\")\n",
        "print(\"output-to-hidden:\", weights[2], \"\", sep=\"\\n\")\n",
        "print(\"output-bias:\", weights[3], \"\", sep=\"\\n\")"
      ],
      "execution_count": 6,
      "outputs": [
        {
          "output_type": "stream",
          "name": "stdout",
          "text": [
            "Model: \"sequential_2\"\n",
            "_________________________________________________________________\n",
            " Layer (type)                Output Shape              Param #   \n",
            "=================================================================\n",
            " hidden_layer (Dense)        (None, 2)                 6         \n",
            "                                                                 \n",
            " output_layer (Dense)        (None, 2)                 6         \n",
            "                                                                 \n",
            "=================================================================\n",
            "Total params: 12\n",
            "Trainable params: 12\n",
            "Non-trainable params: 0\n",
            "_________________________________________________________________\n",
            "\n",
            "hidden-to-input:\n",
            "[[-0.3981179   0.9094491 ]\n",
            " [-0.15191692 -1.544625  ]]\n",
            "\n",
            "hidden-bias:\n",
            "[ 0.08823473 -0.0882346 ]\n",
            "\n",
            "output-to-hidden:\n",
            "[[ -1.3510653   1.7883133]\n",
            " [ 71.07984   -71.60679  ]]\n",
            "\n",
            "output-bias:\n",
            "[ 70.4871 -70.4871]\n",
            "\n"
          ]
        }
      ]
    },
    {
      "cell_type": "markdown",
      "metadata": {
        "id": "HPI2e5SnkDbM"
      },
      "source": [
        "(c) Using the sigmoid function defined below, write some code to manually calculate the outputs of the network using the `weights` and `X` as input. **OR** Explain how the weights and biases are used to calculate the networks outputs."
      ]
    },
    {
      "cell_type": "code",
      "metadata": {
        "id": "-1rCOKjtkH5H",
        "colab": {
          "base_uri": "https://localhost:8080/"
        },
        "outputId": "89d661d4-4cf6-4115-ddae-332f54421fe6"
      },
      "source": [
        "# definition of the signoid activation function\n",
        "def sigmoid(x):\n",
        "  return 1 / (1 + np.exp(-x))\n",
        "  \n",
        "#(c)\n",
        "#For each training sample:\n",
        "for i in range(4):\n",
        "  # Get the input\n",
        "  input = X[i]\n",
        "  # Calculate the hidden layer activations\n",
        "  hidden_activations = sigmoid(np.matmul(input, weights[0]) + weights[1])\n",
        "  # Get the output layer activations\n",
        "  output_activations = sigmoid(np.matmul(hidden_activations, weights[2]) + weights[3])\n",
        "  # Print the input, hidden and output values for this sample\n",
        "  print(input, np.around(hidden_activations, decimals=2), np.around(output_activations, decimals=2), sep=\"\\t\")\n"
      ],
      "execution_count": 7,
      "outputs": [
        {
          "output_type": "stream",
          "name": "stdout",
          "text": [
            "[24.  0.]\t[0. 1.]\t[1. 0.]\n",
            "[12.  0.]\t[0.01 1.  ]\t[1. 0.]\n",
            "[8. 0.]\t[0.04 1.  ]\t[1. 0.]\n",
            "[0. 4.]\t[0.37 0.  ]\t[1. 0.]\n"
          ]
        }
      ]
    },
    {
      "cell_type": "markdown",
      "source": [
        "# (d) What are autoencoders useful for?"
      ],
      "metadata": {
        "id": "_uek-sS6hsM1"
      }
    },
    {
      "cell_type": "code",
      "source": [
        "#(d)\n",
        "#https://en.wikipedia.org/wiki/Autoencoder#Applications"
      ],
      "metadata": {
        "id": "S_W0Ttu1h04c"
      },
      "execution_count": null,
      "outputs": []
    }
  ]
}