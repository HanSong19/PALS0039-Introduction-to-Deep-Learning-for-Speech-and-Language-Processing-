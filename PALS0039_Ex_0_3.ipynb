{
  "nbformat": 4,
  "nbformat_minor": 0,
  "metadata": {
    "colab": {
      "provenance": [],
      "include_colab_link": true
    },
    "kernelspec": {
      "name": "python3",
      "display_name": "Python 3"
    },
    "language_info": {
      "name": "python"
    }
  },
  "cells": [
    {
      "cell_type": "markdown",
      "metadata": {
        "id": "view-in-github",
        "colab_type": "text"
      },
      "source": [
        "<a href=\"https://colab.research.google.com/github/HanSong19/PALS0039-Introduction-to-Deep-Learning-for-Speech-and-Language-Processing-/blob/main/PALS0039_Ex_0_3.ipynb\" target=\"_parent\"><img src=\"https://colab.research.google.com/assets/colab-badge.svg\" alt=\"Open In Colab\"/></a>"
      ]
    },
    {
      "cell_type": "markdown",
      "metadata": {
        "id": "qGWKPQglDqoP"
      },
      "source": [
        "[![PALS0039 Logo](https://www.phon.ucl.ac.uk/courses/pals0039/images/pals0039logo.png)](https://www.phon.ucl.ac.uk/courses/pals0039/)\n",
        "\n",
        "# Exercise 0.3 Defining functions\n",
        "\n",
        "Define a python function called `euclidean_distance` which calculates and returns the Euclidean distance between two points:\n",
        "\n",
        "$$d(p,q) = \\sqrt{(q_1 - p_1)^2 + (q_2 - p_2)^2}$$\n",
        "\n",
        "and apply it between each of the 5 points $p$ and the origin $q = (0.0, 0.0)$ given in the code block below to print out the distances:\n",
        "\n"
      ]
    },
    {
      "cell_type": "code",
      "metadata": {
        "id": "TPerv9TaDcmo",
        "outputId": "375dc455-6ab4-4a4c-dcd1-665f81277259",
        "colab": {
          "base_uri": "https://localhost:8080/",
          "height": 354
        }
      },
      "source": [
        "# Use python modules:\n",
        "from math import sqrt\n",
        "import matplotlib.pyplot as plt\n",
        "%matplotlib inline\n",
        "\n",
        "# Define variables for points p and q:\n",
        "\n",
        "p = [[-1.0, 0.0],\n",
        "     [-0.7071, 0.7071],\n",
        "     [0.0, 1.0],\n",
        "     [0.7071, 0.7071],\n",
        "     [1.0, 0.0]]\n",
        "q = [0.0, 0.0]\n",
        "\n",
        "\n",
        "# Plot points p and q:\n",
        "for point in p:\n",
        "  plt.plot(point[0], point[1], marker=\"o\")\n",
        "\n",
        "# Define python function for the Euclidean distance:\n",
        "def Euclidean(p,q):\n",
        "  return sqrt((q[0]-p[0])**2 + (q[1]-p[1])**2)\n",
        " \n",
        "#within the def Euclidean  the p has to be p[0,0], p[0,1] etc.\n",
        "#so it cannot be i in p because p[i] has sliced because this is lists within a list.\n",
        "#hence, it has to be the numbers to iterate.\n",
        "for i in range(len(p)):\n",
        "  print(\"the Euclidean difference between\"+ str(i) + \"and q is:\", Euclidean(p[i],q))\n",
        "\n"
      ],
      "execution_count": 66,
      "outputs": [
        {
          "output_type": "stream",
          "name": "stdout",
          "text": [
            "the Euclidean difference between0and q is: 1.0\n",
            "the Euclidean difference between1and q is: 0.9999904099540154\n",
            "the Euclidean difference between2and q is: 1.0\n",
            "the Euclidean difference between3and q is: 0.9999904099540154\n",
            "the Euclidean difference between4and q is: 1.0\n"
          ]
        },
        {
          "output_type": "display_data",
          "data": {
            "text/plain": [
              "<Figure size 432x288 with 1 Axes>"
            ],
            "image/png": "[encoded data removed]"
          },
          "metadata": {
            "needs_background": "light"
          }
        }
      ]
    }
  ]
}